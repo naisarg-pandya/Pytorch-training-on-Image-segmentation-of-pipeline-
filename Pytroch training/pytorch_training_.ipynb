{
  "nbformat": 4,
  "nbformat_minor": 0,
  "metadata": {
    "colab": {
      "provenance": [],
      "gpuType": "T4"
    },
    "kernelspec": {
      "name": "python3",
      "display_name": "Python 3"
    },
    "language_info": {
      "name": "python"
    },
    "accelerator": "GPU"
  },
  "cells": [
    {
      "cell_type": "code",
      "execution_count": null,
      "metadata": {
        "id": "geknyYpGhEw2"
      },
      "outputs": [],
      "source": [
        "import torch\n",
        "import torch.nn as nn\n",
        "import torch.optim as optim\n",
        "import numpy as np\n",
        "from torch.utils.data import Dataset\n",
        "from skimage import io\n",
        "import torchvision\n",
        "import torchvision.transforms as transform\n",
        "import os\n",
        "import cv2 as cv\n",
        "from PIL import Image\n",
        "from torch.utils.data import DataLoader\n",
        "from tqdm import tqdm\n",
        "\n",
        "# from utils import (\n",
        "#     load_checkpoints,\n",
        "#     save_checkpoints,\n",
        "#     get_loader,\n",
        "#     check_accuracy,\n",
        "#     save_predictions_as_imgs\n",
        "# )\n",
        "from torch.utils.data import random_split\n",
        "\n",
        "\n",
        "import sys\n",
        "sys.path.append('/content/drive/MyDrive/Colab Notebooks')\n",
        "from pipe_dataset import pipedataset\n",
        "from utils import (\n",
        "    load_checkpoint,\n",
        "    save_checkpoints,\n",
        "    get_loaders,\n",
        "    check_accuracy,\n",
        "    #save_predictions_as_imgs\n",
        ")\n",
        "from model_bulding import deeplabv3"
      ]
    },
    {
      "cell_type": "code",
      "source": [
        "device = torch.device('cuda'if torch.cuda.is_available() else 'cpu')"
      ],
      "metadata": {
        "id": "YvhZ5vj5yPD9"
      },
      "execution_count": null,
      "outputs": []
    },
    {
      "cell_type": "code",
      "source": [
        "#Hyperparameters:\n",
        "Lr_rt = 1e-4\n",
        "batch_size=32\n",
        "epochs = 3\n",
        "img_hight = 320\n",
        "img_width = 240\n",
        "PIN_MEMORY = True\n",
        "LOAD_MODEL = True\n"
      ],
      "metadata": {
        "id": "9tZo1i9MMXzR"
      },
      "execution_count": null,
      "outputs": []
    },
    {
      "cell_type": "markdown",
      "source": [
        "## make data loader\n"
      ],
      "metadata": {
        "id": "tekn1DgejzEU"
      }
    },
    {
      "cell_type": "code",
      "source": [
        "from google.colab import drive\n",
        "drive.mount('/content/drive')\n"
      ],
      "metadata": {
        "id": "lgQ6-clm276-"
      },
      "execution_count": null,
      "outputs": []
    },
    {
      "cell_type": "code",
      "source": [],
      "metadata": {
        "id": "zFfgXLWd3D5t"
      },
      "execution_count": null,
      "outputs": []
    },
    {
      "cell_type": "code",
      "source": [
        "img_dir = \"/content/drive/MyDrive/pipe_data_set/small_p_data\"\n",
        "mask_dir = \"/content/drive/MyDrive/pipe_data_set/merge_pipedata_label\""
      ],
      "metadata": {
        "id": "UHzOY62lr6Go"
      },
      "execution_count": null,
      "outputs": []
    },
    {
      "cell_type": "code",
      "source": [],
      "metadata": {
        "id": "LlsLXxoAt4b7"
      },
      "execution_count": null,
      "outputs": []
    },
    {
      "cell_type": "code",
      "source": [
        "data_set = pipedataset(img_dir, mask_dir, transform=None)"
      ],
      "metadata": {
        "id": "JBc1n24aQtc2"
      },
      "execution_count": null,
      "outputs": []
    },
    {
      "cell_type": "code",
      "source": [
        "generator = torch.Generator().manual_seed(42)\n",
        "train_ds, val_ds, test_ds = random_split(data_set, [0.7, 0.2, 0.1], generator=generator)"
      ],
      "metadata": {
        "id": "dXWaorFpro3m"
      },
      "execution_count": null,
      "outputs": []
    },
    {
      "cell_type": "code",
      "source": [],
      "metadata": {
        "id": "3PpQ8wgAOzc2"
      },
      "execution_count": null,
      "outputs": []
    },
    {
      "cell_type": "code",
      "source": [
        "train_loader = DataLoader(dataset=train_ds, batch_size = 32, shuffle=True)\n",
        "val_loader = DataLoader(dataset=val_ds, batch_size=32, shuffle=False)"
      ],
      "metadata": {
        "id": "f_PP6V9lO7Eq"
      },
      "execution_count": null,
      "outputs": []
    },
    {
      "cell_type": "code",
      "source": [
        "class diceloss(torch.nn.Module):\n",
        "    def init(self):\n",
        "        super(diceloss, self).init()\n",
        "    def forward(self,pred, target):\n",
        "       smooth = 1.\n",
        "       iflat = pred.contiguous().view(-1)\n",
        "       tflat = target.contiguous().view(-1)\n",
        "       intersection = (iflat * tflat).sum()\n",
        "       A_sum = torch.sum(iflat * iflat)\n",
        "       B_sum = torch.sum(tflat * tflat)\n",
        "       return 1 - ((2. * intersection + smooth) / (A_sum + B_sum + smooth) )"
      ],
      "metadata": {
        "id": "yZK9CMmSC-NX"
      },
      "execution_count": null,
      "outputs": []
    },
    {
      "cell_type": "code",
      "source": [
        "def  train_fn(loader, model, optimizer, loss_fn, scaler):\n",
        "  loop = tqdm(loader)\n",
        "  for batch_idx, (data,targets) in enumerate(loop):\n",
        "    data = data.float().to(device=device)\n",
        "    data = data.permute(0,3,1,2)\n",
        "    targets = targets.float().unsqueeze(1).to(device=device)\n",
        "    #print(\"target\", targets.size())\n",
        "    #targets = targets.permute(0,3,1,2)\n",
        "\n",
        "    with torch.cuda.amp.autocast():\n",
        "      pred = model(data)\n",
        "      loss = loss_fn(pred, targets)\n",
        "\n",
        "    optimizer.zero_grad()\n",
        "    scaler.scale(loss).backward()\n",
        "    scaler.step(optimizer)\n",
        "    scaler.update()\n",
        "\n",
        "    loop.set_postfix(loss=loss.item())\n",
        "\n",
        "\n"
      ],
      "metadata": {
        "id": "Muhp29S1o5lr"
      },
      "execution_count": null,
      "outputs": []
    },
    {
      "cell_type": "code",
      "source": [
        "def main():\n",
        "  model = deeplabv3(in_cha=3).to(device)\n",
        "  loss_fn = diceloss()#nn.BCEWithLogitsLoss()\n",
        "  optimizer = optim.Adam(model.parameters(), lr = Lr_rt)\n",
        "\n",
        "  #train_loader, val_loader = get_loaders(img_dir, mask_dir, batch_size, num_workers=4, pin_memory=True)\n",
        "  scaler = torch.cuda.amp.GradScaler()\n",
        "  for epoch in range(epochs):\n",
        "    train_fn(train_loader, model, optimizer, loss_fn, scaler)\n",
        "    check_accuracy(val_loader, model, device=device)"
      ],
      "metadata": {
        "id": "-lMJux2Qo5jK"
      },
      "execution_count": null,
      "outputs": []
    },
    {
      "cell_type": "code",
      "source": [
        "  main()"
      ],
      "metadata": {
        "colab": {
          "base_uri": "https://localhost:8080/"
        },
        "id": "gZgrAte_o5gS",
        "outputId": "9f95a39c-dc7f-4d05-f1e9-506baaa4ba04"
      },
      "execution_count": null,
      "outputs": [
        {
          "output_type": "stream",
          "name": "stderr",
          "text": [
            "  0%|          | 1/269 [00:43<3:14:14, 43.49s/it, loss=1]"
          ]
        },
        {
          "output_type": "stream",
          "name": "stdout",
          "text": [
            "torch.Size([32, 48, 121, 161])\n",
            "c_1 torch.Size([32, 16, 124, 164])\n",
            "torch.Size([32, 32, 31, 41]) torch.Size([32, 8, 31, 41]) torch.Size([32, 8, 31, 41]) torch.Size([32, 8, 31, 41]) torch.Size([32, 8, 31, 41])\n",
            "y_1 torch.Size([32, 32, 31, 41])\n"
          ]
        },
        {
          "output_type": "stream",
          "name": "stderr",
          "text": [
            "  1%|          | 2/269 [01:27<3:14:57, 43.81s/it, loss=1]"
          ]
        },
        {
          "output_type": "stream",
          "name": "stdout",
          "text": [
            "torch.Size([32, 48, 121, 161])\n",
            "c_1 torch.Size([32, 16, 124, 164])\n",
            "torch.Size([32, 32, 31, 41]) torch.Size([32, 8, 31, 41]) torch.Size([32, 8, 31, 41]) torch.Size([32, 8, 31, 41]) torch.Size([32, 8, 31, 41])\n",
            "y_1 torch.Size([32, 32, 31, 41])\n"
          ]
        },
        {
          "output_type": "stream",
          "name": "stderr",
          "text": [
            "  1%|          | 3/269 [02:16<3:24:18, 46.09s/it, loss=1]"
          ]
        },
        {
          "output_type": "stream",
          "name": "stdout",
          "text": [
            "torch.Size([32, 48, 121, 161])\n",
            "c_1 torch.Size([32, 16, 124, 164])\n",
            "torch.Size([32, 32, 31, 41]) torch.Size([32, 8, 31, 41]) torch.Size([32, 8, 31, 41]) torch.Size([32, 8, 31, 41]) torch.Size([32, 8, 31, 41])\n",
            "y_1 torch.Size([32, 32, 31, 41])\n"
          ]
        },
        {
          "output_type": "stream",
          "name": "stderr",
          "text": [
            "  1%|▏         | 4/269 [03:00<3:20:17, 45.35s/it, loss=1]"
          ]
        },
        {
          "output_type": "stream",
          "name": "stdout",
          "text": [
            "torch.Size([32, 48, 121, 161])\n",
            "c_1 torch.Size([32, 16, 124, 164])\n",
            "torch.Size([32, 32, 31, 41]) torch.Size([32, 8, 31, 41]) torch.Size([32, 8, 31, 41]) torch.Size([32, 8, 31, 41]) torch.Size([32, 8, 31, 41])\n",
            "y_1 torch.Size([32, 32, 31, 41])\n"
          ]
        },
        {
          "output_type": "stream",
          "name": "stderr",
          "text": [
            "  2%|▏         | 5/269 [03:45<3:18:22, 45.09s/it, loss=0.999]"
          ]
        },
        {
          "output_type": "stream",
          "name": "stdout",
          "text": [
            "torch.Size([32, 48, 121, 161])\n",
            "c_1 torch.Size([32, 16, 124, 164])\n",
            "torch.Size([32, 32, 31, 41]) torch.Size([32, 8, 31, 41]) torch.Size([32, 8, 31, 41]) torch.Size([32, 8, 31, 41]) torch.Size([32, 8, 31, 41])\n",
            "y_1 torch.Size([32, 32, 31, 41])\n"
          ]
        },
        {
          "output_type": "stream",
          "name": "stderr",
          "text": [
            "  2%|▏         | 6/269 [04:26<3:12:37, 43.94s/it, loss=0.998]"
          ]
        },
        {
          "output_type": "stream",
          "name": "stdout",
          "text": [
            "torch.Size([32, 48, 121, 161])\n",
            "c_1 torch.Size([32, 16, 124, 164])\n",
            "torch.Size([32, 32, 31, 41]) torch.Size([32, 8, 31, 41]) torch.Size([32, 8, 31, 41]) torch.Size([32, 8, 31, 41]) torch.Size([32, 8, 31, 41])\n",
            "y_1 torch.Size([32, 32, 31, 41])\n"
          ]
        },
        {
          "output_type": "stream",
          "name": "stderr",
          "text": [
            "  3%|▎         | 7/269 [05:10<3:10:51, 43.71s/it, loss=0.997]"
          ]
        },
        {
          "output_type": "stream",
          "name": "stdout",
          "text": [
            "torch.Size([32, 48, 121, 161])\n",
            "c_1 torch.Size([32, 16, 124, 164])\n",
            "torch.Size([32, 32, 31, 41]) torch.Size([32, 8, 31, 41]) torch.Size([32, 8, 31, 41]) torch.Size([32, 8, 31, 41]) torch.Size([32, 8, 31, 41])\n",
            "y_1 torch.Size([32, 32, 31, 41])\n"
          ]
        },
        {
          "output_type": "stream",
          "name": "stderr",
          "text": [
            "  3%|▎         | 8/269 [05:55<3:12:56, 44.36s/it, loss=0.997]"
          ]
        },
        {
          "output_type": "stream",
          "name": "stdout",
          "text": [
            "torch.Size([32, 48, 121, 161])\n",
            "c_1 torch.Size([32, 16, 124, 164])\n",
            "torch.Size([32, 32, 31, 41]) torch.Size([32, 8, 31, 41]) torch.Size([32, 8, 31, 41]) torch.Size([32, 8, 31, 41]) torch.Size([32, 8, 31, 41])\n",
            "y_1 torch.Size([32, 32, 31, 41])\n"
          ]
        },
        {
          "output_type": "stream",
          "name": "stderr",
          "text": [
            "  3%|▎         | 9/269 [06:39<3:10:38, 43.99s/it, loss=0.996]"
          ]
        },
        {
          "output_type": "stream",
          "name": "stdout",
          "text": [
            "torch.Size([32, 48, 121, 161])\n",
            "c_1 torch.Size([32, 16, 124, 164])\n",
            "torch.Size([32, 32, 31, 41]) torch.Size([32, 8, 31, 41]) torch.Size([32, 8, 31, 41]) torch.Size([32, 8, 31, 41]) torch.Size([32, 8, 31, 41])\n",
            "y_1 torch.Size([32, 32, 31, 41])\n"
          ]
        },
        {
          "output_type": "stream",
          "name": "stderr",
          "text": [
            "  4%|▎         | 10/269 [07:16<3:01:35, 42.07s/it, loss=0.996]"
          ]
        },
        {
          "output_type": "stream",
          "name": "stdout",
          "text": [
            "torch.Size([32, 48, 121, 161])\n",
            "c_1 torch.Size([32, 16, 124, 164])\n",
            "torch.Size([32, 32, 31, 41]) torch.Size([32, 8, 31, 41]) torch.Size([32, 8, 31, 41]) torch.Size([32, 8, 31, 41]) torch.Size([32, 8, 31, 41])\n",
            "y_1 torch.Size([32, 32, 31, 41])\n"
          ]
        },
        {
          "output_type": "stream",
          "name": "stderr",
          "text": [
            "  4%|▍         | 11/269 [08:01<3:04:08, 42.82s/it, loss=0.994]"
          ]
        },
        {
          "output_type": "stream",
          "name": "stdout",
          "text": [
            "torch.Size([32, 48, 121, 161])\n",
            "c_1 torch.Size([32, 16, 124, 164])\n",
            "torch.Size([32, 32, 31, 41]) torch.Size([32, 8, 31, 41]) torch.Size([32, 8, 31, 41]) torch.Size([32, 8, 31, 41]) torch.Size([32, 8, 31, 41])\n",
            "y_1 torch.Size([32, 32, 31, 41])\n"
          ]
        },
        {
          "output_type": "stream",
          "name": "stderr",
          "text": [
            "  4%|▍         | 12/269 [08:47<3:07:25, 43.76s/it, loss=0.993]"
          ]
        },
        {
          "output_type": "stream",
          "name": "stdout",
          "text": [
            "torch.Size([32, 48, 121, 161])\n",
            "c_1 torch.Size([32, 16, 124, 164])\n",
            "torch.Size([32, 32, 31, 41]) torch.Size([32, 8, 31, 41]) torch.Size([32, 8, 31, 41]) torch.Size([32, 8, 31, 41]) torch.Size([32, 8, 31, 41])\n",
            "y_1 torch.Size([32, 32, 31, 41])\n"
          ]
        },
        {
          "output_type": "stream",
          "name": "stderr",
          "text": [
            "  5%|▍         | 13/269 [09:31<3:07:09, 43.86s/it, loss=0.995]"
          ]
        },
        {
          "output_type": "stream",
          "name": "stdout",
          "text": [
            "torch.Size([32, 48, 121, 161])\n",
            "c_1 torch.Size([32, 16, 124, 164])\n",
            "torch.Size([32, 32, 31, 41]) torch.Size([32, 8, 31, 41]) torch.Size([32, 8, 31, 41]) torch.Size([32, 8, 31, 41]) torch.Size([32, 8, 31, 41])\n",
            "y_1 torch.Size([32, 32, 31, 41])\n"
          ]
        },
        {
          "output_type": "stream",
          "name": "stderr",
          "text": [
            "  5%|▌         | 14/269 [10:18<3:10:16, 44.77s/it, loss=0.993]"
          ]
        },
        {
          "output_type": "stream",
          "name": "stdout",
          "text": [
            "torch.Size([32, 48, 121, 161])\n",
            "c_1 torch.Size([32, 16, 124, 164])\n",
            "torch.Size([32, 32, 31, 41]) torch.Size([32, 8, 31, 41]) torch.Size([32, 8, 31, 41]) torch.Size([32, 8, 31, 41]) torch.Size([32, 8, 31, 41])\n",
            "y_1 torch.Size([32, 32, 31, 41])\n"
          ]
        },
        {
          "output_type": "stream",
          "name": "stderr",
          "text": [
            "  6%|▌         | 15/269 [11:03<3:10:28, 44.99s/it, loss=0.994]"
          ]
        },
        {
          "output_type": "stream",
          "name": "stdout",
          "text": [
            "torch.Size([32, 48, 121, 161])\n",
            "c_1 torch.Size([32, 16, 124, 164])\n",
            "torch.Size([32, 32, 31, 41]) torch.Size([32, 8, 31, 41]) torch.Size([32, 8, 31, 41]) torch.Size([32, 8, 31, 41]) torch.Size([32, 8, 31, 41])\n",
            "y_1 torch.Size([32, 32, 31, 41])\n"
          ]
        },
        {
          "output_type": "stream",
          "name": "stderr",
          "text": [
            "  6%|▌         | 16/269 [11:43<3:02:51, 43.36s/it, loss=0.992]"
          ]
        },
        {
          "output_type": "stream",
          "name": "stdout",
          "text": [
            "torch.Size([32, 48, 121, 161])\n",
            "c_1 torch.Size([32, 16, 124, 164])\n",
            "torch.Size([32, 32, 31, 41]) torch.Size([32, 8, 31, 41]) torch.Size([32, 8, 31, 41]) torch.Size([32, 8, 31, 41]) torch.Size([32, 8, 31, 41])\n",
            "y_1 torch.Size([32, 32, 31, 41])\n"
          ]
        },
        {
          "output_type": "stream",
          "name": "stderr",
          "text": [
            "  6%|▋         | 17/269 [12:28<3:04:23, 43.90s/it, loss=0.994]"
          ]
        },
        {
          "output_type": "stream",
          "name": "stdout",
          "text": [
            "torch.Size([32, 48, 121, 161])\n",
            "c_1 torch.Size([32, 16, 124, 164])\n",
            "torch.Size([32, 32, 31, 41]) torch.Size([32, 8, 31, 41]) torch.Size([32, 8, 31, 41]) torch.Size([32, 8, 31, 41]) torch.Size([32, 8, 31, 41])\n",
            "y_1 torch.Size([32, 32, 31, 41])\n"
          ]
        },
        {
          "output_type": "stream",
          "name": "stderr",
          "text": [
            "  7%|▋         | 18/269 [13:14<3:06:44, 44.64s/it, loss=0.99]"
          ]
        },
        {
          "output_type": "stream",
          "name": "stdout",
          "text": [
            "torch.Size([32, 48, 121, 161])\n",
            "c_1 torch.Size([32, 16, 124, 164])\n",
            "torch.Size([32, 32, 31, 41]) torch.Size([32, 8, 31, 41]) torch.Size([32, 8, 31, 41]) torch.Size([32, 8, 31, 41]) torch.Size([32, 8, 31, 41])\n",
            "y_1 torch.Size([32, 32, 31, 41])\n"
          ]
        },
        {
          "output_type": "stream",
          "name": "stderr",
          "text": [
            "  7%|▋         | 19/269 [13:58<3:04:13, 44.22s/it, loss=0.99]"
          ]
        },
        {
          "output_type": "stream",
          "name": "stdout",
          "text": [
            "torch.Size([32, 48, 121, 161])\n",
            "c_1 torch.Size([32, 16, 124, 164])\n",
            "torch.Size([32, 32, 31, 41]) torch.Size([32, 8, 31, 41]) torch.Size([32, 8, 31, 41]) torch.Size([32, 8, 31, 41]) torch.Size([32, 8, 31, 41])\n",
            "y_1 torch.Size([32, 32, 31, 41])\n"
          ]
        },
        {
          "output_type": "stream",
          "name": "stderr",
          "text": [
            "  7%|▋         | 20/269 [14:39<2:59:34, 43.27s/it, loss=0.99]"
          ]
        },
        {
          "output_type": "stream",
          "name": "stdout",
          "text": [
            "torch.Size([32, 48, 121, 161])\n",
            "c_1 torch.Size([32, 16, 124, 164])\n",
            "torch.Size([32, 32, 31, 41]) torch.Size([32, 8, 31, 41]) torch.Size([32, 8, 31, 41]) torch.Size([32, 8, 31, 41]) torch.Size([32, 8, 31, 41])\n",
            "y_1 torch.Size([32, 32, 31, 41])\n"
          ]
        },
        {
          "output_type": "stream",
          "name": "stderr",
          "text": [
            "  8%|▊         | 21/269 [15:22<2:58:26, 43.17s/it, loss=0.99]"
          ]
        },
        {
          "output_type": "stream",
          "name": "stdout",
          "text": [
            "torch.Size([32, 48, 121, 161])\n",
            "c_1 torch.Size([32, 16, 124, 164])\n",
            "torch.Size([32, 32, 31, 41]) torch.Size([32, 8, 31, 41]) torch.Size([32, 8, 31, 41]) torch.Size([32, 8, 31, 41]) torch.Size([32, 8, 31, 41])\n",
            "y_1 torch.Size([32, 32, 31, 41])\n"
          ]
        },
        {
          "output_type": "stream",
          "name": "stderr",
          "text": [
            "  8%|▊         | 22/269 [15:59<2:51:00, 41.54s/it, loss=0.991]"
          ]
        },
        {
          "output_type": "stream",
          "name": "stdout",
          "text": [
            "torch.Size([32, 48, 121, 161])\n",
            "c_1 torch.Size([32, 16, 124, 164])\n",
            "torch.Size([32, 32, 31, 41]) torch.Size([32, 8, 31, 41]) torch.Size([32, 8, 31, 41]) torch.Size([32, 8, 31, 41]) torch.Size([32, 8, 31, 41])\n",
            "y_1 torch.Size([32, 32, 31, 41])\n"
          ]
        },
        {
          "output_type": "stream",
          "name": "stderr",
          "text": [
            "  9%|▊         | 23/269 [16:46<2:56:33, 43.06s/it, loss=0.992]"
          ]
        },
        {
          "output_type": "stream",
          "name": "stdout",
          "text": [
            "torch.Size([32, 48, 121, 161])\n",
            "c_1 torch.Size([32, 16, 124, 164])\n",
            "torch.Size([32, 32, 31, 41]) torch.Size([32, 8, 31, 41]) torch.Size([32, 8, 31, 41]) torch.Size([32, 8, 31, 41]) torch.Size([32, 8, 31, 41])\n",
            "y_1 torch.Size([32, 32, 31, 41])\n"
          ]
        },
        {
          "output_type": "stream",
          "name": "stderr",
          "text": [
            "  9%|▉         | 24/269 [17:30<2:56:45, 43.29s/it, loss=0.988]"
          ]
        },
        {
          "output_type": "stream",
          "name": "stdout",
          "text": [
            "torch.Size([32, 48, 121, 161])\n",
            "c_1 torch.Size([32, 16, 124, 164])\n",
            "torch.Size([32, 32, 31, 41]) torch.Size([32, 8, 31, 41]) torch.Size([32, 8, 31, 41]) torch.Size([32, 8, 31, 41]) torch.Size([32, 8, 31, 41])\n",
            "y_1 torch.Size([32, 32, 31, 41])\n"
          ]
        },
        {
          "output_type": "stream",
          "name": "stderr",
          "text": [
            "  9%|▉         | 25/269 [18:15<2:58:04, 43.79s/it, loss=0.987]"
          ]
        },
        {
          "output_type": "stream",
          "name": "stdout",
          "text": [
            "torch.Size([32, 48, 121, 161])\n",
            "c_1 torch.Size([32, 16, 124, 164])\n",
            "torch.Size([32, 32, 31, 41]) torch.Size([32, 8, 31, 41]) torch.Size([32, 8, 31, 41]) torch.Size([32, 8, 31, 41]) torch.Size([32, 8, 31, 41])\n",
            "y_1 torch.Size([32, 32, 31, 41])\n"
          ]
        },
        {
          "output_type": "stream",
          "name": "stderr",
          "text": [
            " 10%|▉         | 26/269 [18:55<2:52:38, 42.63s/it, loss=0.991]"
          ]
        },
        {
          "output_type": "stream",
          "name": "stdout",
          "text": [
            "torch.Size([32, 48, 121, 161])\n",
            "c_1 torch.Size([32, 16, 124, 164])\n",
            "torch.Size([32, 32, 31, 41]) torch.Size([32, 8, 31, 41]) torch.Size([32, 8, 31, 41]) torch.Size([32, 8, 31, 41]) torch.Size([32, 8, 31, 41])\n",
            "y_1 torch.Size([32, 32, 31, 41])\n"
          ]
        },
        {
          "output_type": "stream",
          "name": "stderr",
          "text": [
            " 10%|█         | 27/269 [19:39<2:53:33, 43.03s/it, loss=0.989]"
          ]
        },
        {
          "output_type": "stream",
          "name": "stdout",
          "text": [
            "torch.Size([32, 48, 121, 161])\n",
            "c_1 torch.Size([32, 16, 124, 164])\n",
            "torch.Size([32, 32, 31, 41]) torch.Size([32, 8, 31, 41]) torch.Size([32, 8, 31, 41]) torch.Size([32, 8, 31, 41]) torch.Size([32, 8, 31, 41])\n",
            "y_1 torch.Size([32, 32, 31, 41])\n"
          ]
        },
        {
          "output_type": "stream",
          "name": "stderr",
          "text": [
            " 10%|█         | 28/269 [20:15<2:45:13, 41.14s/it, loss=0.989]"
          ]
        },
        {
          "output_type": "stream",
          "name": "stdout",
          "text": [
            "torch.Size([32, 48, 121, 161])\n",
            "c_1 torch.Size([32, 16, 124, 164])\n",
            "torch.Size([32, 32, 31, 41]) torch.Size([32, 8, 31, 41]) torch.Size([32, 8, 31, 41]) torch.Size([32, 8, 31, 41]) torch.Size([32, 8, 31, 41])\n",
            "y_1 torch.Size([32, 32, 31, 41])\n"
          ]
        },
        {
          "output_type": "stream",
          "name": "stderr",
          "text": [
            " 11%|█         | 29/269 [20:57<2:45:32, 41.39s/it, loss=0.987]"
          ]
        },
        {
          "output_type": "stream",
          "name": "stdout",
          "text": [
            "torch.Size([32, 48, 121, 161])\n",
            "c_1 torch.Size([32, 16, 124, 164])\n",
            "torch.Size([32, 32, 31, 41]) torch.Size([32, 8, 31, 41]) torch.Size([32, 8, 31, 41]) torch.Size([32, 8, 31, 41]) torch.Size([32, 8, 31, 41])\n",
            "y_1 torch.Size([32, 32, 31, 41])\n"
          ]
        },
        {
          "output_type": "stream",
          "name": "stderr",
          "text": [
            " 11%|█         | 30/269 [21:43<2:50:11, 42.73s/it, loss=0.989]"
          ]
        },
        {
          "output_type": "stream",
          "name": "stdout",
          "text": [
            "torch.Size([32, 48, 121, 161])\n",
            "c_1 torch.Size([32, 16, 124, 164])\n",
            "torch.Size([32, 32, 31, 41]) torch.Size([32, 8, 31, 41]) torch.Size([32, 8, 31, 41]) torch.Size([32, 8, 31, 41]) torch.Size([32, 8, 31, 41])\n",
            "y_1 torch.Size([32, 32, 31, 41])\n"
          ]
        },
        {
          "output_type": "stream",
          "name": "stderr",
          "text": [
            " 12%|█▏        | 31/269 [22:29<2:53:38, 43.78s/it, loss=0.99]"
          ]
        },
        {
          "output_type": "stream",
          "name": "stdout",
          "text": [
            "torch.Size([32, 48, 121, 161])\n",
            "c_1 torch.Size([32, 16, 124, 164])\n",
            "torch.Size([32, 32, 31, 41]) torch.Size([32, 8, 31, 41]) torch.Size([32, 8, 31, 41]) torch.Size([32, 8, 31, 41]) torch.Size([32, 8, 31, 41])\n",
            "y_1 torch.Size([32, 32, 31, 41])\n"
          ]
        },
        {
          "output_type": "stream",
          "name": "stderr",
          "text": [
            " 12%|█▏        | 32/269 [23:03<2:41:20, 40.84s/it, loss=0.985]"
          ]
        },
        {
          "output_type": "stream",
          "name": "stdout",
          "text": [
            "torch.Size([32, 48, 121, 161])\n",
            "c_1 torch.Size([32, 16, 124, 164])\n",
            "torch.Size([32, 32, 31, 41]) torch.Size([32, 8, 31, 41]) torch.Size([32, 8, 31, 41]) torch.Size([32, 8, 31, 41]) torch.Size([32, 8, 31, 41])\n",
            "y_1 torch.Size([32, 32, 31, 41])\n"
          ]
        },
        {
          "output_type": "stream",
          "name": "stderr",
          "text": [
            " 12%|█▏        | 33/269 [23:50<2:48:04, 42.73s/it, loss=0.986]"
          ]
        },
        {
          "output_type": "stream",
          "name": "stdout",
          "text": [
            "torch.Size([32, 48, 121, 161])\n",
            "c_1 torch.Size([32, 16, 124, 164])\n",
            "torch.Size([32, 32, 31, 41]) torch.Size([32, 8, 31, 41]) torch.Size([32, 8, 31, 41]) torch.Size([32, 8, 31, 41]) torch.Size([32, 8, 31, 41])\n",
            "y_1 torch.Size([32, 32, 31, 41])\n"
          ]
        },
        {
          "output_type": "stream",
          "name": "stderr",
          "text": [
            " 13%|█▎        | 34/269 [24:27<2:40:28, 40.97s/it, loss=0.988]"
          ]
        },
        {
          "output_type": "stream",
          "name": "stdout",
          "text": [
            "torch.Size([32, 48, 121, 161])\n",
            "c_1 torch.Size([32, 16, 124, 164])\n",
            "torch.Size([32, 32, 31, 41]) torch.Size([32, 8, 31, 41]) torch.Size([32, 8, 31, 41]) torch.Size([32, 8, 31, 41]) torch.Size([32, 8, 31, 41])\n",
            "y_1 torch.Size([32, 32, 31, 41])\n"
          ]
        },
        {
          "output_type": "stream",
          "name": "stderr",
          "text": [
            " 13%|█▎        | 35/269 [25:09<2:40:02, 41.03s/it, loss=0.985]"
          ]
        },
        {
          "output_type": "stream",
          "name": "stdout",
          "text": [
            "torch.Size([32, 48, 121, 161])\n",
            "c_1 torch.Size([32, 16, 124, 164])\n",
            "torch.Size([32, 32, 31, 41]) torch.Size([32, 8, 31, 41]) torch.Size([32, 8, 31, 41]) torch.Size([32, 8, 31, 41]) torch.Size([32, 8, 31, 41])\n",
            "y_1 torch.Size([32, 32, 31, 41])\n"
          ]
        },
        {
          "output_type": "stream",
          "name": "stderr",
          "text": [
            " 13%|█▎        | 36/269 [25:53<2:43:11, 42.02s/it, loss=0.986]"
          ]
        },
        {
          "output_type": "stream",
          "name": "stdout",
          "text": [
            "torch.Size([32, 48, 121, 161])\n",
            "c_1 torch.Size([32, 16, 124, 164])\n",
            "torch.Size([32, 32, 31, 41]) torch.Size([32, 8, 31, 41]) torch.Size([32, 8, 31, 41]) torch.Size([32, 8, 31, 41]) torch.Size([32, 8, 31, 41])\n",
            "y_1 torch.Size([32, 32, 31, 41])\n"
          ]
        },
        {
          "output_type": "stream",
          "name": "stderr",
          "text": [
            " 14%|█▍        | 37/269 [26:37<2:44:37, 42.58s/it, loss=0.988]"
          ]
        },
        {
          "output_type": "stream",
          "name": "stdout",
          "text": [
            "torch.Size([32, 48, 121, 161])\n",
            "c_1 torch.Size([32, 16, 124, 164])\n",
            "torch.Size([32, 32, 31, 41]) torch.Size([32, 8, 31, 41]) torch.Size([32, 8, 31, 41]) torch.Size([32, 8, 31, 41]) torch.Size([32, 8, 31, 41])\n",
            "y_1 torch.Size([32, 32, 31, 41])\n"
          ]
        },
        {
          "output_type": "stream",
          "name": "stderr",
          "text": [
            " 14%|█▍        | 38/269 [27:15<2:38:45, 41.24s/it, loss=0.986]"
          ]
        },
        {
          "output_type": "stream",
          "name": "stdout",
          "text": [
            "torch.Size([32, 48, 121, 161])\n",
            "c_1 torch.Size([32, 16, 124, 164])\n",
            "torch.Size([32, 32, 31, 41]) torch.Size([32, 8, 31, 41]) torch.Size([32, 8, 31, 41]) torch.Size([32, 8, 31, 41]) torch.Size([32, 8, 31, 41])\n",
            "y_1 torch.Size([32, 32, 31, 41])\n"
          ]
        },
        {
          "output_type": "stream",
          "name": "stderr",
          "text": [
            " 14%|█▍        | 39/269 [28:04<2:47:24, 43.67s/it, loss=0.984]"
          ]
        },
        {
          "output_type": "stream",
          "name": "stdout",
          "text": [
            "torch.Size([32, 48, 121, 161])\n",
            "c_1 torch.Size([32, 16, 124, 164])\n",
            "torch.Size([32, 32, 31, 41]) torch.Size([32, 8, 31, 41]) torch.Size([32, 8, 31, 41]) torch.Size([32, 8, 31, 41]) torch.Size([32, 8, 31, 41])\n",
            "y_1 torch.Size([32, 32, 31, 41])\n"
          ]
        },
        {
          "output_type": "stream",
          "name": "stderr",
          "text": [
            " 15%|█▍        | 40/269 [28:51<2:50:40, 44.72s/it, loss=0.985]"
          ]
        },
        {
          "output_type": "stream",
          "name": "stdout",
          "text": [
            "torch.Size([32, 48, 121, 161])\n",
            "c_1 torch.Size([32, 16, 124, 164])\n",
            "torch.Size([32, 32, 31, 41]) torch.Size([32, 8, 31, 41]) torch.Size([32, 8, 31, 41]) torch.Size([32, 8, 31, 41]) torch.Size([32, 8, 31, 41])\n",
            "y_1 torch.Size([32, 32, 31, 41])\n"
          ]
        },
        {
          "output_type": "stream",
          "name": "stderr",
          "text": [
            " 15%|█▌        | 41/269 [29:33<2:46:17, 43.76s/it, loss=0.985]"
          ]
        },
        {
          "output_type": "stream",
          "name": "stdout",
          "text": [
            "torch.Size([32, 48, 121, 161])\n",
            "c_1 torch.Size([32, 16, 124, 164])\n",
            "torch.Size([32, 32, 31, 41]) torch.Size([32, 8, 31, 41]) torch.Size([32, 8, 31, 41]) torch.Size([32, 8, 31, 41]) torch.Size([32, 8, 31, 41])\n",
            "y_1 torch.Size([32, 32, 31, 41])\n"
          ]
        },
        {
          "output_type": "stream",
          "name": "stderr",
          "text": [
            " 16%|█▌        | 42/269 [30:20<2:49:50, 44.89s/it, loss=0.984]"
          ]
        },
        {
          "output_type": "stream",
          "name": "stdout",
          "text": [
            "torch.Size([32, 48, 121, 161])\n",
            "c_1 torch.Size([32, 16, 124, 164])\n",
            "torch.Size([32, 32, 31, 41]) torch.Size([32, 8, 31, 41]) torch.Size([32, 8, 31, 41]) torch.Size([32, 8, 31, 41]) torch.Size([32, 8, 31, 41])\n",
            "y_1 torch.Size([32, 32, 31, 41])\n"
          ]
        },
        {
          "output_type": "stream",
          "name": "stderr",
          "text": [
            " 16%|█▌        | 43/269 [31:04<2:47:38, 44.51s/it, loss=0.985]"
          ]
        },
        {
          "output_type": "stream",
          "name": "stdout",
          "text": [
            "torch.Size([32, 48, 121, 161])\n",
            "c_1 torch.Size([32, 16, 124, 164])\n",
            "torch.Size([32, 32, 31, 41]) torch.Size([32, 8, 31, 41]) torch.Size([32, 8, 31, 41]) torch.Size([32, 8, 31, 41]) torch.Size([32, 8, 31, 41])\n",
            "y_1 torch.Size([32, 32, 31, 41])\n"
          ]
        },
        {
          "output_type": "stream",
          "name": "stderr",
          "text": [
            " 16%|█▋        | 44/269 [31:46<2:44:35, 43.89s/it, loss=0.984]"
          ]
        },
        {
          "output_type": "stream",
          "name": "stdout",
          "text": [
            "torch.Size([32, 48, 121, 161])\n",
            "c_1 torch.Size([32, 16, 124, 164])\n",
            "torch.Size([32, 32, 31, 41]) torch.Size([32, 8, 31, 41]) torch.Size([32, 8, 31, 41]) torch.Size([32, 8, 31, 41]) torch.Size([32, 8, 31, 41])\n",
            "y_1 torch.Size([32, 32, 31, 41])\n"
          ]
        },
        {
          "output_type": "stream",
          "name": "stderr",
          "text": [
            " 17%|█▋        | 45/269 [32:27<2:40:12, 42.91s/it, loss=0.983]"
          ]
        },
        {
          "output_type": "stream",
          "name": "stdout",
          "text": [
            "torch.Size([32, 48, 121, 161])\n",
            "c_1 torch.Size([32, 16, 124, 164])\n",
            "torch.Size([32, 32, 31, 41]) torch.Size([32, 8, 31, 41]) torch.Size([32, 8, 31, 41]) torch.Size([32, 8, 31, 41]) torch.Size([32, 8, 31, 41])\n",
            "y_1 torch.Size([32, 32, 31, 41])\n"
          ]
        },
        {
          "output_type": "stream",
          "name": "stderr",
          "text": [
            " 17%|█▋        | 46/269 [33:10<2:39:40, 42.96s/it, loss=0.984]"
          ]
        },
        {
          "output_type": "stream",
          "name": "stdout",
          "text": [
            "torch.Size([32, 48, 121, 161])\n",
            "c_1 torch.Size([32, 16, 124, 164])\n",
            "torch.Size([32, 32, 31, 41]) torch.Size([32, 8, 31, 41]) torch.Size([32, 8, 31, 41]) torch.Size([32, 8, 31, 41]) torch.Size([32, 8, 31, 41])\n",
            "y_1 torch.Size([32, 32, 31, 41])\n"
          ]
        },
        {
          "output_type": "stream",
          "name": "stderr",
          "text": [
            " 17%|█▋        | 47/269 [33:58<2:44:41, 44.51s/it, loss=0.983]"
          ]
        },
        {
          "output_type": "stream",
          "name": "stdout",
          "text": [
            "torch.Size([32, 48, 121, 161])\n",
            "c_1 torch.Size([32, 16, 124, 164])\n",
            "torch.Size([32, 32, 31, 41]) torch.Size([32, 8, 31, 41]) torch.Size([32, 8, 31, 41]) torch.Size([32, 8, 31, 41]) torch.Size([32, 8, 31, 41])\n",
            "y_1 torch.Size([32, 32, 31, 41])\n"
          ]
        },
        {
          "output_type": "stream",
          "name": "stderr",
          "text": [
            " 18%|█▊        | 48/269 [34:49<2:51:15, 46.50s/it, loss=0.981]"
          ]
        },
        {
          "output_type": "stream",
          "name": "stdout",
          "text": [
            "torch.Size([32, 48, 121, 161])\n",
            "c_1 torch.Size([32, 16, 124, 164])\n",
            "torch.Size([32, 32, 31, 41]) torch.Size([32, 8, 31, 41]) torch.Size([32, 8, 31, 41]) torch.Size([32, 8, 31, 41]) torch.Size([32, 8, 31, 41])\n",
            "y_1 torch.Size([32, 32, 31, 41])\n"
          ]
        },
        {
          "output_type": "stream",
          "name": "stderr",
          "text": [
            " 18%|█▊        | 49/269 [35:30<2:44:03, 44.74s/it, loss=0.983]"
          ]
        },
        {
          "output_type": "stream",
          "name": "stdout",
          "text": [
            "torch.Size([32, 48, 121, 161])\n",
            "c_1 torch.Size([32, 16, 124, 164])\n",
            "torch.Size([32, 32, 31, 41]) torch.Size([32, 8, 31, 41]) torch.Size([32, 8, 31, 41]) torch.Size([32, 8, 31, 41]) torch.Size([32, 8, 31, 41])\n",
            "y_1 torch.Size([32, 32, 31, 41])\n"
          ]
        },
        {
          "output_type": "stream",
          "name": "stderr",
          "text": [
            " 19%|█▊        | 50/269 [36:13<2:41:28, 44.24s/it, loss=0.984]"
          ]
        },
        {
          "output_type": "stream",
          "name": "stdout",
          "text": [
            "torch.Size([32, 48, 121, 161])\n",
            "c_1 torch.Size([32, 16, 124, 164])\n",
            "torch.Size([32, 32, 31, 41]) torch.Size([32, 8, 31, 41]) torch.Size([32, 8, 31, 41]) torch.Size([32, 8, 31, 41]) torch.Size([32, 8, 31, 41])\n",
            "y_1 torch.Size([32, 32, 31, 41])\n"
          ]
        },
        {
          "output_type": "stream",
          "name": "stderr",
          "text": [
            " 19%|█▉        | 51/269 [36:56<2:39:42, 43.95s/it, loss=0.983]"
          ]
        },
        {
          "output_type": "stream",
          "name": "stdout",
          "text": [
            "torch.Size([32, 48, 121, 161])\n",
            "c_1 torch.Size([32, 16, 124, 164])\n",
            "torch.Size([32, 32, 31, 41]) torch.Size([32, 8, 31, 41]) torch.Size([32, 8, 31, 41]) torch.Size([32, 8, 31, 41]) torch.Size([32, 8, 31, 41])\n",
            "y_1 torch.Size([32, 32, 31, 41])\n"
          ]
        },
        {
          "output_type": "stream",
          "name": "stderr",
          "text": [
            " 19%|█▉        | 52/269 [37:39<2:37:40, 43.60s/it, loss=0.982]"
          ]
        },
        {
          "output_type": "stream",
          "name": "stdout",
          "text": [
            "torch.Size([32, 48, 121, 161])\n",
            "c_1 torch.Size([32, 16, 124, 164])\n",
            "torch.Size([32, 32, 31, 41]) torch.Size([32, 8, 31, 41]) torch.Size([32, 8, 31, 41]) torch.Size([32, 8, 31, 41]) torch.Size([32, 8, 31, 41])\n",
            "y_1 torch.Size([32, 32, 31, 41])\n"
          ]
        },
        {
          "output_type": "stream",
          "name": "stderr",
          "text": [
            " 20%|█▉        | 53/269 [38:25<2:39:29, 44.31s/it, loss=0.98]"
          ]
        },
        {
          "output_type": "stream",
          "name": "stdout",
          "text": [
            "torch.Size([32, 48, 121, 161])\n",
            "c_1 torch.Size([32, 16, 124, 164])\n",
            "torch.Size([32, 32, 31, 41]) torch.Size([32, 8, 31, 41]) torch.Size([32, 8, 31, 41]) torch.Size([32, 8, 31, 41]) torch.Size([32, 8, 31, 41])\n",
            "y_1 torch.Size([32, 32, 31, 41])\n"
          ]
        },
        {
          "output_type": "stream",
          "name": "stderr",
          "text": [
            " 20%|██        | 54/269 [39:12<2:41:14, 45.00s/it, loss=0.982]"
          ]
        },
        {
          "output_type": "stream",
          "name": "stdout",
          "text": [
            "torch.Size([32, 48, 121, 161])\n",
            "c_1 torch.Size([32, 16, 124, 164])\n",
            "torch.Size([32, 32, 31, 41]) torch.Size([32, 8, 31, 41]) torch.Size([32, 8, 31, 41]) torch.Size([32, 8, 31, 41]) torch.Size([32, 8, 31, 41])\n",
            "y_1 torch.Size([32, 32, 31, 41])\n"
          ]
        },
        {
          "output_type": "stream",
          "name": "stderr",
          "text": [
            " 20%|██        | 55/269 [39:57<2:40:27, 44.99s/it, loss=0.981]"
          ]
        },
        {
          "output_type": "stream",
          "name": "stdout",
          "text": [
            "torch.Size([32, 48, 121, 161])\n",
            "c_1 torch.Size([32, 16, 124, 164])\n",
            "torch.Size([32, 32, 31, 41]) torch.Size([32, 8, 31, 41]) torch.Size([32, 8, 31, 41]) torch.Size([32, 8, 31, 41]) torch.Size([32, 8, 31, 41])\n",
            "y_1 torch.Size([32, 32, 31, 41])\n"
          ]
        },
        {
          "output_type": "stream",
          "name": "stderr",
          "text": [
            " 21%|██        | 56/269 [40:42<2:39:59, 45.07s/it, loss=0.982]"
          ]
        },
        {
          "output_type": "stream",
          "name": "stdout",
          "text": [
            "torch.Size([32, 48, 121, 161])\n",
            "c_1 torch.Size([32, 16, 124, 164])\n",
            "torch.Size([32, 32, 31, 41]) torch.Size([32, 8, 31, 41]) torch.Size([32, 8, 31, 41]) torch.Size([32, 8, 31, 41]) torch.Size([32, 8, 31, 41])\n",
            "y_1 torch.Size([32, 32, 31, 41])\n"
          ]
        },
        {
          "output_type": "stream",
          "name": "stderr",
          "text": [
            " 21%|██        | 57/269 [41:21<2:33:18, 43.39s/it, loss=0.981]"
          ]
        },
        {
          "output_type": "stream",
          "name": "stdout",
          "text": [
            "torch.Size([32, 48, 121, 161])\n",
            "c_1 torch.Size([32, 16, 124, 164])\n",
            "torch.Size([32, 32, 31, 41]) torch.Size([32, 8, 31, 41]) torch.Size([32, 8, 31, 41]) torch.Size([32, 8, 31, 41]) torch.Size([32, 8, 31, 41])\n",
            "y_1 torch.Size([32, 32, 31, 41])\n"
          ]
        },
        {
          "output_type": "stream",
          "name": "stderr",
          "text": [
            " 22%|██▏       | 58/269 [42:08<2:36:16, 44.44s/it, loss=0.979]"
          ]
        },
        {
          "output_type": "stream",
          "name": "stdout",
          "text": [
            "torch.Size([32, 48, 121, 161])\n",
            "c_1 torch.Size([32, 16, 124, 164])\n",
            "torch.Size([32, 32, 31, 41]) torch.Size([32, 8, 31, 41]) torch.Size([32, 8, 31, 41]) torch.Size([32, 8, 31, 41]) torch.Size([32, 8, 31, 41])\n",
            "y_1 torch.Size([32, 32, 31, 41])\n"
          ]
        },
        {
          "output_type": "stream",
          "name": "stderr",
          "text": [
            " 22%|██▏       | 59/269 [42:48<2:30:14, 42.93s/it, loss=0.98]"
          ]
        },
        {
          "output_type": "stream",
          "name": "stdout",
          "text": [
            "torch.Size([32, 48, 121, 161])\n",
            "c_1 torch.Size([32, 16, 124, 164])\n",
            "torch.Size([32, 32, 31, 41]) torch.Size([32, 8, 31, 41]) torch.Size([32, 8, 31, 41]) torch.Size([32, 8, 31, 41]) torch.Size([32, 8, 31, 41])\n",
            "y_1 torch.Size([32, 32, 31, 41])\n"
          ]
        },
        {
          "output_type": "stream",
          "name": "stderr",
          "text": [
            " 22%|██▏       | 60/269 [43:33<2:31:43, 43.56s/it, loss=0.98]"
          ]
        },
        {
          "output_type": "stream",
          "name": "stdout",
          "text": [
            "torch.Size([32, 48, 121, 161])\n",
            "c_1 torch.Size([32, 16, 124, 164])\n",
            "torch.Size([32, 32, 31, 41]) torch.Size([32, 8, 31, 41]) torch.Size([32, 8, 31, 41]) torch.Size([32, 8, 31, 41]) torch.Size([32, 8, 31, 41])\n",
            "y_1 torch.Size([32, 32, 31, 41])\n"
          ]
        },
        {
          "output_type": "stream",
          "name": "stderr",
          "text": [
            " 23%|██▎       | 61/269 [44:18<2:32:45, 44.06s/it, loss=0.979]"
          ]
        },
        {
          "output_type": "stream",
          "name": "stdout",
          "text": [
            "torch.Size([32, 48, 121, 161])\n",
            "c_1 torch.Size([32, 16, 124, 164])\n",
            "torch.Size([32, 32, 31, 41]) torch.Size([32, 8, 31, 41]) torch.Size([32, 8, 31, 41]) torch.Size([32, 8, 31, 41]) torch.Size([32, 8, 31, 41])\n",
            "y_1 torch.Size([32, 32, 31, 41])\n"
          ]
        },
        {
          "output_type": "stream",
          "name": "stderr",
          "text": [
            " 23%|██▎       | 62/269 [44:59<2:28:30, 43.04s/it, loss=0.981]"
          ]
        },
        {
          "output_type": "stream",
          "name": "stdout",
          "text": [
            "torch.Size([32, 48, 121, 161])\n",
            "c_1 torch.Size([32, 16, 124, 164])\n",
            "torch.Size([32, 32, 31, 41]) torch.Size([32, 8, 31, 41]) torch.Size([32, 8, 31, 41]) torch.Size([32, 8, 31, 41]) torch.Size([32, 8, 31, 41])\n",
            "y_1 torch.Size([32, 32, 31, 41])\n"
          ]
        },
        {
          "output_type": "stream",
          "name": "stderr",
          "text": [
            " 23%|██▎       | 63/269 [45:43<2:29:09, 43.44s/it, loss=0.984]"
          ]
        },
        {
          "output_type": "stream",
          "name": "stdout",
          "text": [
            "torch.Size([32, 48, 121, 161])\n",
            "c_1 torch.Size([32, 16, 124, 164])\n",
            "torch.Size([32, 32, 31, 41]) torch.Size([32, 8, 31, 41]) torch.Size([32, 8, 31, 41]) torch.Size([32, 8, 31, 41]) torch.Size([32, 8, 31, 41])\n",
            "y_1 torch.Size([32, 32, 31, 41])\n"
          ]
        },
        {
          "output_type": "stream",
          "name": "stderr",
          "text": [
            " 24%|██▍       | 64/269 [46:26<2:27:39, 43.22s/it, loss=0.978]"
          ]
        },
        {
          "output_type": "stream",
          "name": "stdout",
          "text": [
            "torch.Size([32, 48, 121, 161])\n",
            "c_1 torch.Size([32, 16, 124, 164])\n",
            "torch.Size([32, 32, 31, 41]) torch.Size([32, 8, 31, 41]) torch.Size([32, 8, 31, 41]) torch.Size([32, 8, 31, 41]) torch.Size([32, 8, 31, 41])\n",
            "y_1 torch.Size([32, 32, 31, 41])\n"
          ]
        },
        {
          "output_type": "stream",
          "name": "stderr",
          "text": [
            " 24%|██▍       | 65/269 [47:11<2:28:45, 43.75s/it, loss=0.979]"
          ]
        },
        {
          "output_type": "stream",
          "name": "stdout",
          "text": [
            "torch.Size([32, 48, 121, 161])\n",
            "c_1 torch.Size([32, 16, 124, 164])\n",
            "torch.Size([32, 32, 31, 41]) torch.Size([32, 8, 31, 41]) torch.Size([32, 8, 31, 41]) torch.Size([32, 8, 31, 41]) torch.Size([32, 8, 31, 41])\n",
            "y_1 torch.Size([32, 32, 31, 41])\n"
          ]
        },
        {
          "output_type": "stream",
          "name": "stderr",
          "text": [
            " 25%|██▍       | 66/269 [47:57<2:30:19, 44.43s/it, loss=0.977]"
          ]
        },
        {
          "output_type": "stream",
          "name": "stdout",
          "text": [
            "torch.Size([32, 48, 121, 161])\n",
            "c_1 torch.Size([32, 16, 124, 164])\n",
            "torch.Size([32, 32, 31, 41]) torch.Size([32, 8, 31, 41]) torch.Size([32, 8, 31, 41]) torch.Size([32, 8, 31, 41]) torch.Size([32, 8, 31, 41])\n",
            "y_1 torch.Size([32, 32, 31, 41])\n"
          ]
        },
        {
          "output_type": "stream",
          "name": "stderr",
          "text": [
            " 25%|██▍       | 67/269 [48:37<2:24:55, 43.05s/it, loss=0.978]"
          ]
        },
        {
          "output_type": "stream",
          "name": "stdout",
          "text": [
            "torch.Size([32, 48, 121, 161])\n",
            "c_1 torch.Size([32, 16, 124, 164])\n",
            "torch.Size([32, 32, 31, 41]) torch.Size([32, 8, 31, 41]) torch.Size([32, 8, 31, 41]) torch.Size([32, 8, 31, 41]) torch.Size([32, 8, 31, 41])\n",
            "y_1 torch.Size([32, 32, 31, 41])\n"
          ]
        },
        {
          "output_type": "stream",
          "name": "stderr",
          "text": [
            " 25%|██▌       | 68/269 [49:21<2:25:15, 43.36s/it, loss=0.976]"
          ]
        },
        {
          "output_type": "stream",
          "name": "stdout",
          "text": [
            "torch.Size([32, 48, 121, 161])\n",
            "c_1 torch.Size([32, 16, 124, 164])\n",
            "torch.Size([32, 32, 31, 41]) torch.Size([32, 8, 31, 41]) torch.Size([32, 8, 31, 41]) torch.Size([32, 8, 31, 41]) torch.Size([32, 8, 31, 41])\n",
            "y_1 torch.Size([32, 32, 31, 41])\n"
          ]
        },
        {
          "output_type": "stream",
          "name": "stderr",
          "text": [
            " 26%|██▌       | 69/269 [50:05<2:25:56, 43.78s/it, loss=0.975]"
          ]
        },
        {
          "output_type": "stream",
          "name": "stdout",
          "text": [
            "torch.Size([32, 48, 121, 161])\n",
            "c_1 torch.Size([32, 16, 124, 164])\n",
            "torch.Size([32, 32, 31, 41]) torch.Size([32, 8, 31, 41]) torch.Size([32, 8, 31, 41]) torch.Size([32, 8, 31, 41]) torch.Size([32, 8, 31, 41])\n",
            "y_1 torch.Size([32, 32, 31, 41])\n"
          ]
        },
        {
          "output_type": "stream",
          "name": "stderr",
          "text": [
            " 26%|██▌       | 70/269 [50:52<2:27:59, 44.62s/it, loss=0.977]"
          ]
        },
        {
          "output_type": "stream",
          "name": "stdout",
          "text": [
            "torch.Size([32, 48, 121, 161])\n",
            "c_1 torch.Size([32, 16, 124, 164])\n",
            "torch.Size([32, 32, 31, 41]) torch.Size([32, 8, 31, 41]) torch.Size([32, 8, 31, 41]) torch.Size([32, 8, 31, 41]) torch.Size([32, 8, 31, 41])\n",
            "y_1 torch.Size([32, 32, 31, 41])\n"
          ]
        },
        {
          "output_type": "stream",
          "name": "stderr",
          "text": [
            " 26%|██▋       | 71/269 [51:42<2:32:39, 46.26s/it, loss=0.975]"
          ]
        },
        {
          "output_type": "stream",
          "name": "stdout",
          "text": [
            "torch.Size([32, 48, 121, 161])\n",
            "c_1 torch.Size([32, 16, 124, 164])\n",
            "torch.Size([32, 32, 31, 41]) torch.Size([32, 8, 31, 41]) torch.Size([32, 8, 31, 41]) torch.Size([32, 8, 31, 41]) torch.Size([32, 8, 31, 41])\n",
            "y_1 torch.Size([32, 32, 31, 41])\n"
          ]
        },
        {
          "output_type": "stream",
          "name": "stderr",
          "text": [
            " 27%|██▋       | 72/269 [52:27<2:30:20, 45.79s/it, loss=0.978]"
          ]
        },
        {
          "output_type": "stream",
          "name": "stdout",
          "text": [
            "torch.Size([32, 48, 121, 161])\n",
            "c_1 torch.Size([32, 16, 124, 164])\n",
            "torch.Size([32, 32, 31, 41]) torch.Size([32, 8, 31, 41]) torch.Size([32, 8, 31, 41]) torch.Size([32, 8, 31, 41]) torch.Size([32, 8, 31, 41])\n",
            "y_1 torch.Size([32, 32, 31, 41])\n"
          ]
        },
        {
          "output_type": "stream",
          "name": "stderr",
          "text": [
            " 27%|██▋       | 73/269 [53:12<2:28:56, 45.59s/it, loss=0.975]"
          ]
        },
        {
          "output_type": "stream",
          "name": "stdout",
          "text": [
            "torch.Size([32, 48, 121, 161])\n",
            "c_1 torch.Size([32, 16, 124, 164])\n",
            "torch.Size([32, 32, 31, 41]) torch.Size([32, 8, 31, 41]) torch.Size([32, 8, 31, 41]) torch.Size([32, 8, 31, 41]) torch.Size([32, 8, 31, 41])\n",
            "y_1 torch.Size([32, 32, 31, 41])\n"
          ]
        },
        {
          "output_type": "stream",
          "name": "stderr",
          "text": [
            " 28%|██▊       | 74/269 [53:58<2:28:31, 45.70s/it, loss=0.976]"
          ]
        },
        {
          "output_type": "stream",
          "name": "stdout",
          "text": [
            "torch.Size([32, 48, 121, 161])\n",
            "c_1 torch.Size([32, 16, 124, 164])\n",
            "torch.Size([32, 32, 31, 41]) torch.Size([32, 8, 31, 41]) torch.Size([32, 8, 31, 41]) torch.Size([32, 8, 31, 41]) torch.Size([32, 8, 31, 41])\n",
            "y_1 torch.Size([32, 32, 31, 41])\n"
          ]
        },
        {
          "output_type": "stream",
          "name": "stderr",
          "text": [
            " 28%|██▊       | 75/269 [54:39<2:23:38, 44.43s/it, loss=0.976]"
          ]
        },
        {
          "output_type": "stream",
          "name": "stdout",
          "text": [
            "torch.Size([32, 48, 121, 161])\n",
            "c_1 torch.Size([32, 16, 124, 164])\n",
            "torch.Size([32, 32, 31, 41]) torch.Size([32, 8, 31, 41]) torch.Size([32, 8, 31, 41]) torch.Size([32, 8, 31, 41]) torch.Size([32, 8, 31, 41])\n",
            "y_1 torch.Size([32, 32, 31, 41])\n"
          ]
        },
        {
          "output_type": "stream",
          "name": "stderr",
          "text": [
            " 28%|██▊       | 76/269 [55:27<2:26:21, 45.50s/it, loss=0.976]"
          ]
        },
        {
          "output_type": "stream",
          "name": "stdout",
          "text": [
            "torch.Size([32, 48, 121, 161])\n",
            "c_1 torch.Size([32, 16, 124, 164])\n",
            "torch.Size([32, 32, 31, 41]) torch.Size([32, 8, 31, 41]) torch.Size([32, 8, 31, 41]) torch.Size([32, 8, 31, 41]) torch.Size([32, 8, 31, 41])\n",
            "y_1 torch.Size([32, 32, 31, 41])\n"
          ]
        },
        {
          "output_type": "stream",
          "name": "stderr",
          "text": [
            " 29%|██▊       | 77/269 [56:07<2:19:58, 43.74s/it, loss=0.971]"
          ]
        },
        {
          "output_type": "stream",
          "name": "stdout",
          "text": [
            "torch.Size([32, 48, 121, 161])\n",
            "c_1 torch.Size([32, 16, 124, 164])\n",
            "torch.Size([32, 32, 31, 41]) torch.Size([32, 8, 31, 41]) torch.Size([32, 8, 31, 41]) torch.Size([32, 8, 31, 41]) torch.Size([32, 8, 31, 41])\n",
            "y_1 torch.Size([32, 32, 31, 41])\n"
          ]
        },
        {
          "output_type": "stream",
          "name": "stderr",
          "text": [
            " 29%|██▉       | 78/269 [56:55<2:23:10, 44.98s/it, loss=0.975]"
          ]
        },
        {
          "output_type": "stream",
          "name": "stdout",
          "text": [
            "torch.Size([32, 48, 121, 161])\n",
            "c_1 torch.Size([32, 16, 124, 164])\n",
            "torch.Size([32, 32, 31, 41]) torch.Size([32, 8, 31, 41]) torch.Size([32, 8, 31, 41]) torch.Size([32, 8, 31, 41]) torch.Size([32, 8, 31, 41])\n",
            "y_1 torch.Size([32, 32, 31, 41])\n"
          ]
        },
        {
          "output_type": "stream",
          "name": "stderr",
          "text": [
            " 29%|██▉       | 79/269 [57:35<2:17:35, 43.45s/it, loss=0.973]"
          ]
        },
        {
          "output_type": "stream",
          "name": "stdout",
          "text": [
            "torch.Size([32, 48, 121, 161])\n",
            "c_1 torch.Size([32, 16, 124, 164])\n",
            "torch.Size([32, 32, 31, 41]) torch.Size([32, 8, 31, 41]) torch.Size([32, 8, 31, 41]) torch.Size([32, 8, 31, 41]) torch.Size([32, 8, 31, 41])\n",
            "y_1 torch.Size([32, 32, 31, 41])\n"
          ]
        },
        {
          "output_type": "stream",
          "name": "stderr",
          "text": [
            " 30%|██▉       | 80/269 [58:16<2:15:14, 42.93s/it, loss=0.973]"
          ]
        },
        {
          "output_type": "stream",
          "name": "stdout",
          "text": [
            "torch.Size([32, 48, 121, 161])\n",
            "c_1 torch.Size([32, 16, 124, 164])\n",
            "torch.Size([32, 32, 31, 41]) torch.Size([32, 8, 31, 41]) torch.Size([32, 8, 31, 41]) torch.Size([32, 8, 31, 41]) torch.Size([32, 8, 31, 41])\n",
            "y_1 torch.Size([32, 32, 31, 41])\n"
          ]
        },
        {
          "output_type": "stream",
          "name": "stderr",
          "text": [
            " 30%|███       | 81/269 [59:02<2:16:42, 43.63s/it, loss=0.974]"
          ]
        },
        {
          "output_type": "stream",
          "name": "stdout",
          "text": [
            "torch.Size([32, 48, 121, 161])\n",
            "c_1 torch.Size([32, 16, 124, 164])\n",
            "torch.Size([32, 32, 31, 41]) torch.Size([32, 8, 31, 41]) torch.Size([32, 8, 31, 41]) torch.Size([32, 8, 31, 41]) torch.Size([32, 8, 31, 41])\n",
            "y_1 torch.Size([32, 32, 31, 41])\n"
          ]
        },
        {
          "output_type": "stream",
          "name": "stderr",
          "text": [
            " 30%|███       | 82/269 [59:40<2:10:58, 42.02s/it, loss=0.97]"
          ]
        },
        {
          "output_type": "stream",
          "name": "stdout",
          "text": [
            "torch.Size([32, 48, 121, 161])\n",
            "c_1 torch.Size([32, 16, 124, 164])\n",
            "torch.Size([32, 32, 31, 41]) torch.Size([32, 8, 31, 41]) torch.Size([32, 8, 31, 41]) torch.Size([32, 8, 31, 41]) torch.Size([32, 8, 31, 41])\n",
            "y_1 torch.Size([32, 32, 31, 41])\n"
          ]
        },
        {
          "output_type": "stream",
          "name": "stderr",
          "text": [
            " 31%|███       | 83/269 [1:00:28<2:16:04, 43.90s/it, loss=0.974]"
          ]
        },
        {
          "output_type": "stream",
          "name": "stdout",
          "text": [
            "torch.Size([32, 48, 121, 161])\n",
            "c_1 torch.Size([32, 16, 124, 164])\n",
            "torch.Size([32, 32, 31, 41]) torch.Size([32, 8, 31, 41]) torch.Size([32, 8, 31, 41]) torch.Size([32, 8, 31, 41]) torch.Size([32, 8, 31, 41])\n",
            "y_1 torch.Size([32, 32, 31, 41])\n"
          ]
        },
        {
          "output_type": "stream",
          "name": "stderr",
          "text": [
            " 31%|███       | 84/269 [1:01:13<2:16:19, 44.21s/it, loss=0.971]"
          ]
        },
        {
          "output_type": "stream",
          "name": "stdout",
          "text": [
            "torch.Size([32, 48, 121, 161])\n",
            "c_1 torch.Size([32, 16, 124, 164])\n",
            "torch.Size([32, 32, 31, 41]) torch.Size([32, 8, 31, 41]) torch.Size([32, 8, 31, 41]) torch.Size([32, 8, 31, 41]) torch.Size([32, 8, 31, 41])\n",
            "y_1 torch.Size([32, 32, 31, 41])\n"
          ]
        },
        {
          "output_type": "stream",
          "name": "stderr",
          "text": [
            " 32%|███▏      | 85/269 [1:01:50<2:08:31, 41.91s/it, loss=0.97]"
          ]
        },
        {
          "output_type": "stream",
          "name": "stdout",
          "text": [
            "torch.Size([32, 48, 121, 161])\n",
            "c_1 torch.Size([32, 16, 124, 164])\n",
            "torch.Size([32, 32, 31, 41]) torch.Size([32, 8, 31, 41]) torch.Size([32, 8, 31, 41]) torch.Size([32, 8, 31, 41]) torch.Size([32, 8, 31, 41])\n",
            "y_1 torch.Size([32, 32, 31, 41])\n"
          ]
        },
        {
          "output_type": "stream",
          "name": "stderr",
          "text": [
            " 32%|███▏      | 86/269 [1:02:33<2:09:03, 42.31s/it, loss=0.974]"
          ]
        },
        {
          "output_type": "stream",
          "name": "stdout",
          "text": [
            "torch.Size([32, 48, 121, 161])\n",
            "c_1 torch.Size([32, 16, 124, 164])\n",
            "torch.Size([32, 32, 31, 41]) torch.Size([32, 8, 31, 41]) torch.Size([32, 8, 31, 41]) torch.Size([32, 8, 31, 41]) torch.Size([32, 8, 31, 41])\n",
            "y_1 torch.Size([32, 32, 31, 41])\n"
          ]
        },
        {
          "output_type": "stream",
          "name": "stderr",
          "text": [
            " 32%|███▏      | 87/269 [1:03:17<2:09:39, 42.74s/it, loss=0.971]"
          ]
        },
        {
          "output_type": "stream",
          "name": "stdout",
          "text": [
            "torch.Size([32, 48, 121, 161])\n",
            "c_1 torch.Size([32, 16, 124, 164])\n",
            "torch.Size([32, 32, 31, 41]) torch.Size([32, 8, 31, 41]) torch.Size([32, 8, 31, 41]) torch.Size([32, 8, 31, 41]) torch.Size([32, 8, 31, 41])\n",
            "y_1 torch.Size([32, 32, 31, 41])\n"
          ]
        },
        {
          "output_type": "stream",
          "name": "stderr",
          "text": [
            " 33%|███▎      | 88/269 [1:04:00<2:09:27, 42.92s/it, loss=0.971]"
          ]
        },
        {
          "output_type": "stream",
          "name": "stdout",
          "text": [
            "torch.Size([32, 48, 121, 161])\n",
            "c_1 torch.Size([32, 16, 124, 164])\n",
            "torch.Size([32, 32, 31, 41]) torch.Size([32, 8, 31, 41]) torch.Size([32, 8, 31, 41]) torch.Size([32, 8, 31, 41]) torch.Size([32, 8, 31, 41])\n",
            "y_1 torch.Size([32, 32, 31, 41])\n"
          ]
        },
        {
          "output_type": "stream",
          "name": "stderr",
          "text": [
            " 33%|███▎      | 89/269 [1:04:41<2:07:02, 42.35s/it, loss=0.972]"
          ]
        },
        {
          "output_type": "stream",
          "name": "stdout",
          "text": [
            "torch.Size([32, 48, 121, 161])\n",
            "c_1 torch.Size([32, 16, 124, 164])\n",
            "torch.Size([32, 32, 31, 41]) torch.Size([32, 8, 31, 41]) torch.Size([32, 8, 31, 41]) torch.Size([32, 8, 31, 41]) torch.Size([32, 8, 31, 41])\n",
            "y_1 torch.Size([32, 32, 31, 41])\n"
          ]
        },
        {
          "output_type": "stream",
          "name": "stderr",
          "text": [
            " 33%|███▎      | 90/269 [1:05:19<2:02:39, 41.11s/it, loss=0.974]"
          ]
        },
        {
          "output_type": "stream",
          "name": "stdout",
          "text": [
            "torch.Size([32, 48, 121, 161])\n",
            "c_1 torch.Size([32, 16, 124, 164])\n",
            "torch.Size([32, 32, 31, 41]) torch.Size([32, 8, 31, 41]) torch.Size([32, 8, 31, 41]) torch.Size([32, 8, 31, 41]) torch.Size([32, 8, 31, 41])\n",
            "y_1 torch.Size([32, 32, 31, 41])\n"
          ]
        },
        {
          "output_type": "stream",
          "name": "stderr",
          "text": [
            " 34%|███▍      | 91/269 [1:06:02<2:03:02, 41.47s/it, loss=0.971]"
          ]
        },
        {
          "output_type": "stream",
          "name": "stdout",
          "text": [
            "torch.Size([32, 48, 121, 161])\n",
            "c_1 torch.Size([32, 16, 124, 164])\n",
            "torch.Size([32, 32, 31, 41]) torch.Size([32, 8, 31, 41]) torch.Size([32, 8, 31, 41]) torch.Size([32, 8, 31, 41]) torch.Size([32, 8, 31, 41])\n",
            "y_1 torch.Size([32, 32, 31, 41])\n"
          ]
        },
        {
          "output_type": "stream",
          "name": "stderr",
          "text": [
            " 34%|███▍      | 92/269 [1:06:41<2:00:18, 40.78s/it, loss=0.968]"
          ]
        },
        {
          "output_type": "stream",
          "name": "stdout",
          "text": [
            "torch.Size([32, 48, 121, 161])\n",
            "c_1 torch.Size([32, 16, 124, 164])\n",
            "torch.Size([32, 32, 31, 41]) torch.Size([32, 8, 31, 41]) torch.Size([32, 8, 31, 41]) torch.Size([32, 8, 31, 41]) torch.Size([32, 8, 31, 41])\n",
            "y_1 torch.Size([32, 32, 31, 41])\n"
          ]
        },
        {
          "output_type": "stream",
          "name": "stderr",
          "text": [
            " 35%|███▍      | 93/269 [1:07:25<2:02:27, 41.75s/it, loss=0.972]"
          ]
        },
        {
          "output_type": "stream",
          "name": "stdout",
          "text": [
            "torch.Size([32, 48, 121, 161])\n",
            "c_1 torch.Size([32, 16, 124, 164])\n",
            "torch.Size([32, 32, 31, 41]) torch.Size([32, 8, 31, 41]) torch.Size([32, 8, 31, 41]) torch.Size([32, 8, 31, 41]) torch.Size([32, 8, 31, 41])\n",
            "y_1 torch.Size([32, 32, 31, 41])\n"
          ]
        },
        {
          "output_type": "stream",
          "name": "stderr",
          "text": [
            " 35%|███▍      | 94/269 [1:08:09<2:03:52, 42.47s/it, loss=0.968]"
          ]
        },
        {
          "output_type": "stream",
          "name": "stdout",
          "text": [
            "torch.Size([32, 48, 121, 161])\n",
            "c_1 torch.Size([32, 16, 124, 164])\n",
            "torch.Size([32, 32, 31, 41]) torch.Size([32, 8, 31, 41]) torch.Size([32, 8, 31, 41]) torch.Size([32, 8, 31, 41]) torch.Size([32, 8, 31, 41])\n",
            "y_1 torch.Size([32, 32, 31, 41])\n"
          ]
        },
        {
          "output_type": "stream",
          "name": "stderr",
          "text": [
            " 35%|███▌      | 95/269 [1:08:58<2:08:45, 44.40s/it, loss=0.969]"
          ]
        },
        {
          "output_type": "stream",
          "name": "stdout",
          "text": [
            "torch.Size([32, 48, 121, 161])\n",
            "c_1 torch.Size([32, 16, 124, 164])\n",
            "torch.Size([32, 32, 31, 41]) torch.Size([32, 8, 31, 41]) torch.Size([32, 8, 31, 41]) torch.Size([32, 8, 31, 41]) torch.Size([32, 8, 31, 41])\n",
            "y_1 torch.Size([32, 32, 31, 41])\n"
          ]
        },
        {
          "output_type": "stream",
          "name": "stderr",
          "text": [
            " 36%|███▌      | 96/269 [1:09:40<2:06:20, 43.82s/it, loss=0.97]"
          ]
        },
        {
          "output_type": "stream",
          "name": "stdout",
          "text": [
            "torch.Size([32, 48, 121, 161])\n",
            "c_1 torch.Size([32, 16, 124, 164])\n",
            "torch.Size([32, 32, 31, 41]) torch.Size([32, 8, 31, 41]) torch.Size([32, 8, 31, 41]) torch.Size([32, 8, 31, 41]) torch.Size([32, 8, 31, 41])\n",
            "y_1 torch.Size([32, 32, 31, 41])\n"
          ]
        },
        {
          "output_type": "stream",
          "name": "stderr",
          "text": [
            " 36%|███▌      | 97/269 [1:10:20<2:02:10, 42.62s/it, loss=0.97]"
          ]
        },
        {
          "output_type": "stream",
          "name": "stdout",
          "text": [
            "torch.Size([32, 48, 121, 161])\n",
            "c_1 torch.Size([32, 16, 124, 164])\n",
            "torch.Size([32, 32, 31, 41]) torch.Size([32, 8, 31, 41]) torch.Size([32, 8, 31, 41]) torch.Size([32, 8, 31, 41]) torch.Size([32, 8, 31, 41])\n",
            "y_1 torch.Size([32, 32, 31, 41])\n"
          ]
        },
        {
          "output_type": "stream",
          "name": "stderr",
          "text": [
            " 36%|███▋      | 98/269 [1:11:00<1:59:05, 41.79s/it, loss=0.966]"
          ]
        },
        {
          "output_type": "stream",
          "name": "stdout",
          "text": [
            "torch.Size([32, 48, 121, 161])\n",
            "c_1 torch.Size([32, 16, 124, 164])\n",
            "torch.Size([32, 32, 31, 41]) torch.Size([32, 8, 31, 41]) torch.Size([32, 8, 31, 41]) torch.Size([32, 8, 31, 41]) torch.Size([32, 8, 31, 41])\n",
            "y_1 torch.Size([32, 32, 31, 41])\n"
          ]
        },
        {
          "output_type": "stream",
          "name": "stderr",
          "text": [
            " 37%|███▋      | 99/269 [1:11:43<1:59:24, 42.14s/it, loss=0.968]"
          ]
        },
        {
          "output_type": "stream",
          "name": "stdout",
          "text": [
            "torch.Size([32, 48, 121, 161])\n",
            "c_1 torch.Size([32, 16, 124, 164])\n",
            "torch.Size([32, 32, 31, 41]) torch.Size([32, 8, 31, 41]) torch.Size([32, 8, 31, 41]) torch.Size([32, 8, 31, 41]) torch.Size([32, 8, 31, 41])\n",
            "y_1 torch.Size([32, 32, 31, 41])\n"
          ]
        },
        {
          "output_type": "stream",
          "name": "stderr",
          "text": [
            " 37%|███▋      | 100/269 [1:12:31<2:03:35, 43.88s/it, loss=0.968]"
          ]
        },
        {
          "output_type": "stream",
          "name": "stdout",
          "text": [
            "torch.Size([32, 48, 121, 161])\n",
            "c_1 torch.Size([32, 16, 124, 164])\n",
            "torch.Size([32, 32, 31, 41]) torch.Size([32, 8, 31, 41]) torch.Size([32, 8, 31, 41]) torch.Size([32, 8, 31, 41]) torch.Size([32, 8, 31, 41])\n",
            "y_1 torch.Size([32, 32, 31, 41])\n"
          ]
        },
        {
          "output_type": "stream",
          "name": "stderr",
          "text": [
            " 38%|███▊      | 101/269 [1:13:16<2:03:40, 44.17s/it, loss=0.969]"
          ]
        },
        {
          "output_type": "stream",
          "name": "stdout",
          "text": [
            "torch.Size([32, 48, 121, 161])\n",
            "c_1 torch.Size([32, 16, 124, 164])\n",
            "torch.Size([32, 32, 31, 41]) torch.Size([32, 8, 31, 41]) torch.Size([32, 8, 31, 41]) torch.Size([32, 8, 31, 41]) torch.Size([32, 8, 31, 41])\n",
            "y_1 torch.Size([32, 32, 31, 41])\n"
          ]
        },
        {
          "output_type": "stream",
          "name": "stderr",
          "text": [
            " 38%|███▊      | 102/269 [1:13:55<1:59:12, 42.83s/it, loss=0.968]"
          ]
        },
        {
          "output_type": "stream",
          "name": "stdout",
          "text": [
            "torch.Size([32, 48, 121, 161])\n",
            "c_1 torch.Size([32, 16, 124, 164])\n",
            "torch.Size([32, 32, 31, 41]) torch.Size([32, 8, 31, 41]) torch.Size([32, 8, 31, 41]) torch.Size([32, 8, 31, 41]) torch.Size([32, 8, 31, 41])\n",
            "y_1 torch.Size([32, 32, 31, 41])\n"
          ]
        },
        {
          "output_type": "stream",
          "name": "stderr",
          "text": [
            " 38%|███▊      | 103/269 [1:14:38<1:57:56, 42.63s/it, loss=0.967]"
          ]
        },
        {
          "output_type": "stream",
          "name": "stdout",
          "text": [
            "torch.Size([32, 48, 121, 161])\n",
            "c_1 torch.Size([32, 16, 124, 164])\n",
            "torch.Size([32, 32, 31, 41]) torch.Size([32, 8, 31, 41]) torch.Size([32, 8, 31, 41]) torch.Size([32, 8, 31, 41]) torch.Size([32, 8, 31, 41])\n",
            "y_1 torch.Size([32, 32, 31, 41])\n"
          ]
        },
        {
          "output_type": "stream",
          "name": "stderr",
          "text": [
            " 39%|███▊      | 104/269 [1:15:24<2:00:36, 43.86s/it, loss=0.968]"
          ]
        },
        {
          "output_type": "stream",
          "name": "stdout",
          "text": [
            "torch.Size([32, 48, 121, 161])\n",
            "c_1 torch.Size([32, 16, 124, 164])\n",
            "torch.Size([32, 32, 31, 41]) torch.Size([32, 8, 31, 41]) torch.Size([32, 8, 31, 41]) torch.Size([32, 8, 31, 41]) torch.Size([32, 8, 31, 41])\n",
            "y_1 torch.Size([32, 32, 31, 41])\n"
          ]
        },
        {
          "output_type": "stream",
          "name": "stderr",
          "text": [
            " 39%|███▉      | 105/269 [1:16:02<1:55:13, 42.16s/it, loss=0.965]"
          ]
        },
        {
          "output_type": "stream",
          "name": "stdout",
          "text": [
            "torch.Size([32, 48, 121, 161])\n",
            "c_1 torch.Size([32, 16, 124, 164])\n",
            "torch.Size([32, 32, 31, 41]) torch.Size([32, 8, 31, 41]) torch.Size([32, 8, 31, 41]) torch.Size([32, 8, 31, 41]) torch.Size([32, 8, 31, 41])\n",
            "y_1 torch.Size([32, 32, 31, 41])\n"
          ]
        },
        {
          "output_type": "stream",
          "name": "stderr",
          "text": [
            " 39%|███▉      | 106/269 [1:16:41<1:51:45, 41.14s/it, loss=0.968]"
          ]
        },
        {
          "output_type": "stream",
          "name": "stdout",
          "text": [
            "torch.Size([32, 48, 121, 161])\n",
            "c_1 torch.Size([32, 16, 124, 164])\n",
            "torch.Size([32, 32, 31, 41]) torch.Size([32, 8, 31, 41]) torch.Size([32, 8, 31, 41]) torch.Size([32, 8, 31, 41]) torch.Size([32, 8, 31, 41])\n",
            "y_1 torch.Size([32, 32, 31, 41])\n"
          ]
        },
        {
          "output_type": "stream",
          "name": "stderr",
          "text": [
            " 40%|███▉      | 107/269 [1:17:21<1:49:42, 40.63s/it, loss=0.967]"
          ]
        },
        {
          "output_type": "stream",
          "name": "stdout",
          "text": [
            "torch.Size([32, 48, 121, 161])\n",
            "c_1 torch.Size([32, 16, 124, 164])\n",
            "torch.Size([32, 32, 31, 41]) torch.Size([32, 8, 31, 41]) torch.Size([32, 8, 31, 41]) torch.Size([32, 8, 31, 41]) torch.Size([32, 8, 31, 41])\n",
            "y_1 torch.Size([32, 32, 31, 41])\n"
          ]
        },
        {
          "output_type": "stream",
          "name": "stderr",
          "text": [
            " 40%|████      | 108/269 [1:18:04<1:50:59, 41.36s/it, loss=0.965]"
          ]
        },
        {
          "output_type": "stream",
          "name": "stdout",
          "text": [
            "torch.Size([32, 48, 121, 161])\n",
            "c_1 torch.Size([32, 16, 124, 164])\n",
            "torch.Size([32, 32, 31, 41]) torch.Size([32, 8, 31, 41]) torch.Size([32, 8, 31, 41]) torch.Size([32, 8, 31, 41]) torch.Size([32, 8, 31, 41])\n",
            "y_1 torch.Size([32, 32, 31, 41])\n"
          ]
        },
        {
          "output_type": "stream",
          "name": "stderr",
          "text": [
            " 41%|████      | 109/269 [1:18:46<1:51:08, 41.68s/it, loss=0.964]"
          ]
        },
        {
          "output_type": "stream",
          "name": "stdout",
          "text": [
            "torch.Size([32, 48, 121, 161])\n",
            "c_1 torch.Size([32, 16, 124, 164])\n",
            "torch.Size([32, 32, 31, 41]) torch.Size([32, 8, 31, 41]) torch.Size([32, 8, 31, 41]) torch.Size([32, 8, 31, 41]) torch.Size([32, 8, 31, 41])\n",
            "y_1 torch.Size([32, 32, 31, 41])\n"
          ]
        },
        {
          "output_type": "stream",
          "name": "stderr",
          "text": [
            " 41%|████      | 110/269 [1:19:32<1:53:29, 42.82s/it, loss=0.965]"
          ]
        },
        {
          "output_type": "stream",
          "name": "stdout",
          "text": [
            "torch.Size([32, 48, 121, 161])\n",
            "c_1 torch.Size([32, 16, 124, 164])\n",
            "torch.Size([32, 32, 31, 41]) torch.Size([32, 8, 31, 41]) torch.Size([32, 8, 31, 41]) torch.Size([32, 8, 31, 41]) torch.Size([32, 8, 31, 41])\n",
            "y_1 torch.Size([32, 32, 31, 41])\n"
          ]
        },
        {
          "output_type": "stream",
          "name": "stderr",
          "text": [
            " 41%|████▏     | 111/269 [1:20:17<1:54:54, 43.64s/it, loss=0.966]"
          ]
        },
        {
          "output_type": "stream",
          "name": "stdout",
          "text": [
            "torch.Size([32, 48, 121, 161])\n",
            "c_1 torch.Size([32, 16, 124, 164])\n",
            "torch.Size([32, 32, 31, 41]) torch.Size([32, 8, 31, 41]) torch.Size([32, 8, 31, 41]) torch.Size([32, 8, 31, 41]) torch.Size([32, 8, 31, 41])\n",
            "y_1 torch.Size([32, 32, 31, 41])\n"
          ]
        },
        {
          "output_type": "stream",
          "name": "stderr",
          "text": [
            " 42%|████▏     | 112/269 [1:21:00<1:53:12, 43.26s/it, loss=0.965]"
          ]
        },
        {
          "output_type": "stream",
          "name": "stdout",
          "text": [
            "torch.Size([32, 48, 121, 161])\n",
            "c_1 torch.Size([32, 16, 124, 164])\n",
            "torch.Size([32, 32, 31, 41]) torch.Size([32, 8, 31, 41]) torch.Size([32, 8, 31, 41]) torch.Size([32, 8, 31, 41]) torch.Size([32, 8, 31, 41])\n",
            "y_1 torch.Size([32, 32, 31, 41])\n"
          ]
        },
        {
          "output_type": "stream",
          "name": "stderr",
          "text": [
            " 42%|████▏     | 113/269 [1:21:39<1:49:16, 42.03s/it, loss=0.966]"
          ]
        },
        {
          "output_type": "stream",
          "name": "stdout",
          "text": [
            "torch.Size([32, 48, 121, 161])\n",
            "c_1 torch.Size([32, 16, 124, 164])\n",
            "torch.Size([32, 32, 31, 41]) torch.Size([32, 8, 31, 41]) torch.Size([32, 8, 31, 41]) torch.Size([32, 8, 31, 41]) torch.Size([32, 8, 31, 41])\n",
            "y_1 torch.Size([32, 32, 31, 41])\n"
          ]
        },
        {
          "output_type": "stream",
          "name": "stderr",
          "text": [
            " 42%|████▏     | 114/269 [1:22:16<1:44:43, 40.54s/it, loss=0.964]"
          ]
        },
        {
          "output_type": "stream",
          "name": "stdout",
          "text": [
            "torch.Size([32, 48, 121, 161])\n",
            "c_1 torch.Size([32, 16, 124, 164])\n",
            "torch.Size([32, 32, 31, 41]) torch.Size([32, 8, 31, 41]) torch.Size([32, 8, 31, 41]) torch.Size([32, 8, 31, 41]) torch.Size([32, 8, 31, 41])\n",
            "y_1 torch.Size([32, 32, 31, 41])\n"
          ]
        },
        {
          "output_type": "stream",
          "name": "stderr",
          "text": [
            " 43%|████▎     | 115/269 [1:23:03<1:48:53, 42.43s/it, loss=0.959]"
          ]
        },
        {
          "output_type": "stream",
          "name": "stdout",
          "text": [
            "torch.Size([32, 48, 121, 161])\n",
            "c_1 torch.Size([32, 16, 124, 164])\n",
            "torch.Size([32, 32, 31, 41]) torch.Size([32, 8, 31, 41]) torch.Size([32, 8, 31, 41]) torch.Size([32, 8, 31, 41]) torch.Size([32, 8, 31, 41])\n",
            "y_1 torch.Size([32, 32, 31, 41])\n"
          ]
        },
        {
          "output_type": "stream",
          "name": "stderr",
          "text": [
            " 43%|████▎     | 116/269 [1:23:40<1:44:22, 40.93s/it, loss=0.963]"
          ]
        },
        {
          "output_type": "stream",
          "name": "stdout",
          "text": [
            "torch.Size([32, 48, 121, 161])\n",
            "c_1 torch.Size([32, 16, 124, 164])\n",
            "torch.Size([32, 32, 31, 41]) torch.Size([32, 8, 31, 41]) torch.Size([32, 8, 31, 41]) torch.Size([32, 8, 31, 41]) torch.Size([32, 8, 31, 41])\n",
            "y_1 torch.Size([32, 32, 31, 41])\n"
          ]
        },
        {
          "output_type": "stream",
          "name": "stderr",
          "text": [
            " 43%|████▎     | 117/269 [1:24:21<1:43:49, 40.99s/it, loss=0.96]"
          ]
        },
        {
          "output_type": "stream",
          "name": "stdout",
          "text": [
            "torch.Size([32, 48, 121, 161])\n",
            "c_1 torch.Size([32, 16, 124, 164])\n",
            "torch.Size([32, 32, 31, 41]) torch.Size([32, 8, 31, 41]) torch.Size([32, 8, 31, 41]) torch.Size([32, 8, 31, 41]) torch.Size([32, 8, 31, 41])\n",
            "y_1 torch.Size([32, 32, 31, 41])\n"
          ]
        },
        {
          "output_type": "stream",
          "name": "stderr",
          "text": [
            " 44%|████▍     | 118/269 [1:25:03<1:43:28, 41.12s/it, loss=0.961]"
          ]
        },
        {
          "output_type": "stream",
          "name": "stdout",
          "text": [
            "torch.Size([32, 48, 121, 161])\n",
            "c_1 torch.Size([32, 16, 124, 164])\n",
            "torch.Size([32, 32, 31, 41]) torch.Size([32, 8, 31, 41]) torch.Size([32, 8, 31, 41]) torch.Size([32, 8, 31, 41]) torch.Size([32, 8, 31, 41])\n",
            "y_1 torch.Size([32, 32, 31, 41])\n"
          ]
        },
        {
          "output_type": "stream",
          "name": "stderr",
          "text": [
            " 44%|████▍     | 119/269 [1:25:49<1:46:23, 42.56s/it, loss=0.966]"
          ]
        },
        {
          "output_type": "stream",
          "name": "stdout",
          "text": [
            "torch.Size([32, 48, 121, 161])\n",
            "c_1 torch.Size([32, 16, 124, 164])\n",
            "torch.Size([32, 32, 31, 41]) torch.Size([32, 8, 31, 41]) torch.Size([32, 8, 31, 41]) torch.Size([32, 8, 31, 41]) torch.Size([32, 8, 31, 41])\n",
            "y_1 torch.Size([32, 32, 31, 41])\n"
          ]
        },
        {
          "output_type": "stream",
          "name": "stderr",
          "text": [
            " 45%|████▍     | 120/269 [1:26:29<1:44:11, 41.95s/it, loss=0.964]"
          ]
        },
        {
          "output_type": "stream",
          "name": "stdout",
          "text": [
            "torch.Size([32, 48, 121, 161])\n",
            "c_1 torch.Size([32, 16, 124, 164])\n",
            "torch.Size([32, 32, 31, 41]) torch.Size([32, 8, 31, 41]) torch.Size([32, 8, 31, 41]) torch.Size([32, 8, 31, 41]) torch.Size([32, 8, 31, 41])\n",
            "y_1 torch.Size([32, 32, 31, 41])\n"
          ]
        },
        {
          "output_type": "stream",
          "name": "stderr",
          "text": [
            " 45%|████▍     | 121/269 [1:27:11<1:43:25, 41.93s/it, loss=0.962]"
          ]
        },
        {
          "output_type": "stream",
          "name": "stdout",
          "text": [
            "torch.Size([32, 48, 121, 161])\n",
            "c_1 torch.Size([32, 16, 124, 164])\n",
            "torch.Size([32, 32, 31, 41]) torch.Size([32, 8, 31, 41]) torch.Size([32, 8, 31, 41]) torch.Size([32, 8, 31, 41]) torch.Size([32, 8, 31, 41])\n",
            "y_1 torch.Size([32, 32, 31, 41])\n"
          ]
        },
        {
          "output_type": "stream",
          "name": "stderr",
          "text": [
            " 45%|████▌     | 122/269 [1:27:53<1:42:39, 41.90s/it, loss=0.963]"
          ]
        },
        {
          "output_type": "stream",
          "name": "stdout",
          "text": [
            "torch.Size([32, 48, 121, 161])\n",
            "c_1 torch.Size([32, 16, 124, 164])\n",
            "torch.Size([32, 32, 31, 41]) torch.Size([32, 8, 31, 41]) torch.Size([32, 8, 31, 41]) torch.Size([32, 8, 31, 41]) torch.Size([32, 8, 31, 41])\n",
            "y_1 torch.Size([32, 32, 31, 41])\n"
          ]
        },
        {
          "output_type": "stream",
          "name": "stderr",
          "text": [
            " 46%|████▌     | 123/269 [1:28:35<1:42:21, 42.06s/it, loss=0.96]"
          ]
        },
        {
          "output_type": "stream",
          "name": "stdout",
          "text": [
            "torch.Size([32, 48, 121, 161])\n",
            "c_1 torch.Size([32, 16, 124, 164])\n",
            "torch.Size([32, 32, 31, 41]) torch.Size([32, 8, 31, 41]) torch.Size([32, 8, 31, 41]) torch.Size([32, 8, 31, 41]) torch.Size([32, 8, 31, 41])\n",
            "y_1 torch.Size([32, 32, 31, 41])\n"
          ]
        },
        {
          "output_type": "stream",
          "name": "stderr",
          "text": [
            " 46%|████▌     | 124/269 [1:29:21<1:44:01, 43.04s/it, loss=0.961]"
          ]
        },
        {
          "output_type": "stream",
          "name": "stdout",
          "text": [
            "torch.Size([32, 48, 121, 161])\n",
            "c_1 torch.Size([32, 16, 124, 164])\n",
            "torch.Size([32, 32, 31, 41]) torch.Size([32, 8, 31, 41]) torch.Size([32, 8, 31, 41]) torch.Size([32, 8, 31, 41]) torch.Size([32, 8, 31, 41])\n",
            "y_1 torch.Size([32, 32, 31, 41])\n"
          ]
        },
        {
          "output_type": "stream",
          "name": "stderr",
          "text": [
            " 46%|████▋     | 125/269 [1:30:05<1:44:18, 43.46s/it, loss=0.96]"
          ]
        },
        {
          "output_type": "stream",
          "name": "stdout",
          "text": [
            "torch.Size([32, 48, 121, 161])\n",
            "c_1 torch.Size([32, 16, 124, 164])\n",
            "torch.Size([32, 32, 31, 41]) torch.Size([32, 8, 31, 41]) torch.Size([32, 8, 31, 41]) torch.Size([32, 8, 31, 41]) torch.Size([32, 8, 31, 41])\n",
            "y_1 torch.Size([32, 32, 31, 41])\n"
          ]
        },
        {
          "output_type": "stream",
          "name": "stderr",
          "text": [
            " 47%|████▋     | 126/269 [1:30:48<1:43:34, 43.46s/it, loss=0.961]"
          ]
        },
        {
          "output_type": "stream",
          "name": "stdout",
          "text": [
            "torch.Size([32, 48, 121, 161])\n",
            "c_1 torch.Size([32, 16, 124, 164])\n",
            "torch.Size([32, 32, 31, 41]) torch.Size([32, 8, 31, 41]) torch.Size([32, 8, 31, 41]) torch.Size([32, 8, 31, 41]) torch.Size([32, 8, 31, 41])\n",
            "y_1 torch.Size([32, 32, 31, 41])\n"
          ]
        },
        {
          "output_type": "stream",
          "name": "stderr",
          "text": [
            " 47%|████▋     | 127/269 [1:31:38<1:47:00, 45.21s/it, loss=0.962]"
          ]
        },
        {
          "output_type": "stream",
          "name": "stdout",
          "text": [
            "torch.Size([32, 48, 121, 161])\n",
            "c_1 torch.Size([32, 16, 124, 164])\n",
            "torch.Size([32, 32, 31, 41]) torch.Size([32, 8, 31, 41]) torch.Size([32, 8, 31, 41]) torch.Size([32, 8, 31, 41]) torch.Size([32, 8, 31, 41])\n",
            "y_1 torch.Size([32, 32, 31, 41])\n"
          ]
        },
        {
          "output_type": "stream",
          "name": "stderr",
          "text": [
            " 48%|████▊     | 128/269 [1:32:22<1:45:39, 44.96s/it, loss=0.96]"
          ]
        },
        {
          "output_type": "stream",
          "name": "stdout",
          "text": [
            "torch.Size([32, 48, 121, 161])\n",
            "c_1 torch.Size([32, 16, 124, 164])\n",
            "torch.Size([32, 32, 31, 41]) torch.Size([32, 8, 31, 41]) torch.Size([32, 8, 31, 41]) torch.Size([32, 8, 31, 41]) torch.Size([32, 8, 31, 41])\n",
            "y_1 torch.Size([32, 32, 31, 41])\n"
          ]
        },
        {
          "output_type": "stream",
          "name": "stderr",
          "text": [
            " 48%|████▊     | 129/269 [1:33:07<1:44:34, 44.82s/it, loss=0.958]"
          ]
        },
        {
          "output_type": "stream",
          "name": "stdout",
          "text": [
            "torch.Size([32, 48, 121, 161])\n",
            "c_1 torch.Size([32, 16, 124, 164])\n",
            "torch.Size([32, 32, 31, 41]) torch.Size([32, 8, 31, 41]) torch.Size([32, 8, 31, 41]) torch.Size([32, 8, 31, 41]) torch.Size([32, 8, 31, 41])\n",
            "y_1 torch.Size([32, 32, 31, 41])\n"
          ]
        },
        {
          "output_type": "stream",
          "name": "stderr",
          "text": [
            " 48%|████▊     | 130/269 [1:33:55<1:46:18, 45.89s/it, loss=0.956]"
          ]
        },
        {
          "output_type": "stream",
          "name": "stdout",
          "text": [
            "torch.Size([32, 48, 121, 161])\n",
            "c_1 torch.Size([32, 16, 124, 164])\n",
            "torch.Size([32, 32, 31, 41]) torch.Size([32, 8, 31, 41]) torch.Size([32, 8, 31, 41]) torch.Size([32, 8, 31, 41]) torch.Size([32, 8, 31, 41])\n",
            "y_1 torch.Size([32, 32, 31, 41])\n"
          ]
        },
        {
          "output_type": "stream",
          "name": "stderr",
          "text": [
            " 49%|████▊     | 131/269 [1:34:33<1:39:54, 43.44s/it, loss=0.959]"
          ]
        },
        {
          "output_type": "stream",
          "name": "stdout",
          "text": [
            "torch.Size([32, 48, 121, 161])\n",
            "c_1 torch.Size([32, 16, 124, 164])\n",
            "torch.Size([32, 32, 31, 41]) torch.Size([32, 8, 31, 41]) torch.Size([32, 8, 31, 41]) torch.Size([32, 8, 31, 41]) torch.Size([32, 8, 31, 41])\n",
            "y_1 torch.Size([32, 32, 31, 41])\n"
          ]
        },
        {
          "output_type": "stream",
          "name": "stderr",
          "text": [
            " 49%|████▉     | 132/269 [1:35:13<1:36:59, 42.48s/it, loss=0.955]"
          ]
        },
        {
          "output_type": "stream",
          "name": "stdout",
          "text": [
            "torch.Size([32, 48, 121, 161])\n",
            "c_1 torch.Size([32, 16, 124, 164])\n",
            "torch.Size([32, 32, 31, 41]) torch.Size([32, 8, 31, 41]) torch.Size([32, 8, 31, 41]) torch.Size([32, 8, 31, 41]) torch.Size([32, 8, 31, 41])\n",
            "y_1 torch.Size([32, 32, 31, 41])\n"
          ]
        },
        {
          "output_type": "stream",
          "name": "stderr",
          "text": [
            " 49%|████▉     | 133/269 [1:35:56<1:36:50, 42.73s/it, loss=0.958]"
          ]
        },
        {
          "output_type": "stream",
          "name": "stdout",
          "text": [
            "torch.Size([32, 48, 121, 161])\n",
            "c_1 torch.Size([32, 16, 124, 164])\n",
            "torch.Size([32, 32, 31, 41]) torch.Size([32, 8, 31, 41]) torch.Size([32, 8, 31, 41]) torch.Size([32, 8, 31, 41]) torch.Size([32, 8, 31, 41])\n",
            "y_1 torch.Size([32, 32, 31, 41])\n"
          ]
        },
        {
          "output_type": "stream",
          "name": "stderr",
          "text": [
            " 50%|████▉     | 134/269 [1:36:37<1:35:02, 42.24s/it, loss=0.964]"
          ]
        },
        {
          "output_type": "stream",
          "name": "stdout",
          "text": [
            "torch.Size([32, 48, 121, 161])\n",
            "c_1 torch.Size([32, 16, 124, 164])\n",
            "torch.Size([32, 32, 31, 41]) torch.Size([32, 8, 31, 41]) torch.Size([32, 8, 31, 41]) torch.Size([32, 8, 31, 41]) torch.Size([32, 8, 31, 41])\n",
            "y_1 torch.Size([32, 32, 31, 41])\n"
          ]
        },
        {
          "output_type": "stream",
          "name": "stderr",
          "text": [
            " 50%|█████     | 135/269 [1:37:22<1:36:14, 43.09s/it, loss=0.957]"
          ]
        },
        {
          "output_type": "stream",
          "name": "stdout",
          "text": [
            "torch.Size([32, 48, 121, 161])\n",
            "c_1 torch.Size([32, 16, 124, 164])\n",
            "torch.Size([32, 32, 31, 41]) torch.Size([32, 8, 31, 41]) torch.Size([32, 8, 31, 41]) torch.Size([32, 8, 31, 41]) torch.Size([32, 8, 31, 41])\n",
            "y_1 torch.Size([32, 32, 31, 41])\n"
          ]
        },
        {
          "output_type": "stream",
          "name": "stderr",
          "text": [
            " 51%|█████     | 136/269 [1:37:58<1:30:48, 40.97s/it, loss=0.96]"
          ]
        },
        {
          "output_type": "stream",
          "name": "stdout",
          "text": [
            "torch.Size([32, 48, 121, 161])\n",
            "c_1 torch.Size([32, 16, 124, 164])\n",
            "torch.Size([32, 32, 31, 41]) torch.Size([32, 8, 31, 41]) torch.Size([32, 8, 31, 41]) torch.Size([32, 8, 31, 41]) torch.Size([32, 8, 31, 41])\n",
            "y_1 torch.Size([32, 32, 31, 41])\n"
          ]
        },
        {
          "output_type": "stream",
          "name": "stderr",
          "text": [
            " 51%|█████     | 137/269 [1:38:42<1:32:01, 41.83s/it, loss=0.96]"
          ]
        },
        {
          "output_type": "stream",
          "name": "stdout",
          "text": [
            "torch.Size([32, 48, 121, 161])\n",
            "c_1 torch.Size([32, 16, 124, 164])\n",
            "torch.Size([32, 32, 31, 41]) torch.Size([32, 8, 31, 41]) torch.Size([32, 8, 31, 41]) torch.Size([32, 8, 31, 41]) torch.Size([32, 8, 31, 41])\n",
            "y_1 torch.Size([32, 32, 31, 41])\n"
          ]
        },
        {
          "output_type": "stream",
          "name": "stderr",
          "text": [
            " 51%|█████▏    | 138/269 [1:39:24<1:31:16, 41.81s/it, loss=0.959]"
          ]
        },
        {
          "output_type": "stream",
          "name": "stdout",
          "text": [
            "torch.Size([32, 48, 121, 161])\n",
            "c_1 torch.Size([32, 16, 124, 164])\n",
            "torch.Size([32, 32, 31, 41]) torch.Size([32, 8, 31, 41]) torch.Size([32, 8, 31, 41]) torch.Size([32, 8, 31, 41]) torch.Size([32, 8, 31, 41])\n",
            "y_1 torch.Size([32, 32, 31, 41])\n"
          ]
        },
        {
          "output_type": "stream",
          "name": "stderr",
          "text": [
            " 52%|█████▏    | 139/269 [1:40:06<1:30:31, 41.78s/it, loss=0.956]"
          ]
        },
        {
          "output_type": "stream",
          "name": "stdout",
          "text": [
            "torch.Size([32, 48, 121, 161])\n",
            "c_1 torch.Size([32, 16, 124, 164])\n",
            "torch.Size([32, 32, 31, 41]) torch.Size([32, 8, 31, 41]) torch.Size([32, 8, 31, 41]) torch.Size([32, 8, 31, 41]) torch.Size([32, 8, 31, 41])\n",
            "y_1 torch.Size([32, 32, 31, 41])\n"
          ]
        },
        {
          "output_type": "stream",
          "name": "stderr",
          "text": [
            " 52%|█████▏    | 140/269 [1:40:53<1:33:33, 43.51s/it, loss=0.957]"
          ]
        },
        {
          "output_type": "stream",
          "name": "stdout",
          "text": [
            "torch.Size([32, 48, 121, 161])\n",
            "c_1 torch.Size([32, 16, 124, 164])\n",
            "torch.Size([32, 32, 31, 41]) torch.Size([32, 8, 31, 41]) torch.Size([32, 8, 31, 41]) torch.Size([32, 8, 31, 41]) torch.Size([32, 8, 31, 41])\n",
            "y_1 torch.Size([32, 32, 31, 41])\n"
          ]
        },
        {
          "output_type": "stream",
          "name": "stderr",
          "text": [
            " 52%|█████▏    | 141/269 [1:41:35<1:31:50, 43.05s/it, loss=0.957]"
          ]
        },
        {
          "output_type": "stream",
          "name": "stdout",
          "text": [
            "torch.Size([32, 48, 121, 161])\n",
            "c_1 torch.Size([32, 16, 124, 164])\n",
            "torch.Size([32, 32, 31, 41]) torch.Size([32, 8, 31, 41]) torch.Size([32, 8, 31, 41]) torch.Size([32, 8, 31, 41]) torch.Size([32, 8, 31, 41])\n",
            "y_1 torch.Size([32, 32, 31, 41])\n"
          ]
        },
        {
          "output_type": "stream",
          "name": "stderr",
          "text": [
            " 53%|█████▎    | 142/269 [1:42:19<1:31:27, 43.21s/it, loss=0.952]"
          ]
        },
        {
          "output_type": "stream",
          "name": "stdout",
          "text": [
            "torch.Size([32, 48, 121, 161])\n",
            "c_1 torch.Size([32, 16, 124, 164])\n",
            "torch.Size([32, 32, 31, 41]) torch.Size([32, 8, 31, 41]) torch.Size([32, 8, 31, 41]) torch.Size([32, 8, 31, 41]) torch.Size([32, 8, 31, 41])\n",
            "y_1 torch.Size([32, 32, 31, 41])\n"
          ]
        },
        {
          "output_type": "stream",
          "name": "stderr",
          "text": [
            " 53%|█████▎    | 143/269 [1:43:07<1:33:42, 44.62s/it, loss=0.958]"
          ]
        },
        {
          "output_type": "stream",
          "name": "stdout",
          "text": [
            "torch.Size([32, 48, 121, 161])\n",
            "c_1 torch.Size([32, 16, 124, 164])\n",
            "torch.Size([32, 32, 31, 41]) torch.Size([32, 8, 31, 41]) torch.Size([32, 8, 31, 41]) torch.Size([32, 8, 31, 41]) torch.Size([32, 8, 31, 41])\n",
            "y_1 torch.Size([32, 32, 31, 41])\n"
          ]
        },
        {
          "output_type": "stream",
          "name": "stderr",
          "text": [
            " 54%|█████▎    | 144/269 [1:43:51<1:32:48, 44.55s/it, loss=0.957]"
          ]
        },
        {
          "output_type": "stream",
          "name": "stdout",
          "text": [
            "torch.Size([32, 48, 121, 161])\n",
            "c_1 torch.Size([32, 16, 124, 164])\n",
            "torch.Size([32, 32, 31, 41]) torch.Size([32, 8, 31, 41]) torch.Size([32, 8, 31, 41]) torch.Size([32, 8, 31, 41]) torch.Size([32, 8, 31, 41])\n",
            "y_1 torch.Size([32, 32, 31, 41])\n"
          ]
        },
        {
          "output_type": "stream",
          "name": "stderr",
          "text": [
            " 54%|█████▍    | 145/269 [1:44:41<1:35:20, 46.14s/it, loss=0.953]"
          ]
        },
        {
          "output_type": "stream",
          "name": "stdout",
          "text": [
            "torch.Size([32, 48, 121, 161])\n",
            "c_1 torch.Size([32, 16, 124, 164])\n",
            "torch.Size([32, 32, 31, 41]) torch.Size([32, 8, 31, 41]) torch.Size([32, 8, 31, 41]) torch.Size([32, 8, 31, 41]) torch.Size([32, 8, 31, 41])\n",
            "y_1 torch.Size([32, 32, 31, 41])\n"
          ]
        },
        {
          "output_type": "stream",
          "name": "stderr",
          "text": [
            " 54%|█████▍    | 146/269 [1:45:26<1:33:57, 45.83s/it, loss=0.953]"
          ]
        },
        {
          "output_type": "stream",
          "name": "stdout",
          "text": [
            "torch.Size([32, 48, 121, 161])\n",
            "c_1 torch.Size([32, 16, 124, 164])\n",
            "torch.Size([32, 32, 31, 41]) torch.Size([32, 8, 31, 41]) torch.Size([32, 8, 31, 41]) torch.Size([32, 8, 31, 41]) torch.Size([32, 8, 31, 41])\n",
            "y_1 torch.Size([32, 32, 31, 41])\n"
          ]
        },
        {
          "output_type": "stream",
          "name": "stderr",
          "text": [
            " 55%|█████▍    | 147/269 [1:46:10<1:31:53, 45.20s/it, loss=0.954]"
          ]
        },
        {
          "output_type": "stream",
          "name": "stdout",
          "text": [
            "torch.Size([32, 48, 121, 161])\n",
            "c_1 torch.Size([32, 16, 124, 164])\n",
            "torch.Size([32, 32, 31, 41]) torch.Size([32, 8, 31, 41]) torch.Size([32, 8, 31, 41]) torch.Size([32, 8, 31, 41]) torch.Size([32, 8, 31, 41])\n",
            "y_1 torch.Size([32, 32, 31, 41])\n"
          ]
        },
        {
          "output_type": "stream",
          "name": "stderr",
          "text": [
            " 55%|█████▌    | 148/269 [1:46:53<1:29:50, 44.55s/it, loss=0.958]"
          ]
        },
        {
          "output_type": "stream",
          "name": "stdout",
          "text": [
            "torch.Size([32, 48, 121, 161])\n",
            "c_1 torch.Size([32, 16, 124, 164])\n",
            "torch.Size([32, 32, 31, 41]) torch.Size([32, 8, 31, 41]) torch.Size([32, 8, 31, 41]) torch.Size([32, 8, 31, 41]) torch.Size([32, 8, 31, 41])\n",
            "y_1 torch.Size([32, 32, 31, 41])\n"
          ]
        },
        {
          "output_type": "stream",
          "name": "stderr",
          "text": [
            " 55%|█████▌    | 149/269 [1:47:41<1:31:26, 45.72s/it, loss=0.954]"
          ]
        },
        {
          "output_type": "stream",
          "name": "stdout",
          "text": [
            "torch.Size([32, 48, 121, 161])\n",
            "c_1 torch.Size([32, 16, 124, 164])\n",
            "torch.Size([32, 32, 31, 41]) torch.Size([32, 8, 31, 41]) torch.Size([32, 8, 31, 41]) torch.Size([32, 8, 31, 41]) torch.Size([32, 8, 31, 41])\n",
            "y_1 torch.Size([32, 32, 31, 41])\n"
          ]
        },
        {
          "output_type": "stream",
          "name": "stderr",
          "text": [
            " 56%|█████▌    | 150/269 [1:48:26<1:29:46, 45.26s/it, loss=0.955]"
          ]
        },
        {
          "output_type": "stream",
          "name": "stdout",
          "text": [
            "torch.Size([32, 48, 121, 161])\n",
            "c_1 torch.Size([32, 16, 124, 164])\n",
            "torch.Size([32, 32, 31, 41]) torch.Size([32, 8, 31, 41]) torch.Size([32, 8, 31, 41]) torch.Size([32, 8, 31, 41]) torch.Size([32, 8, 31, 41])\n",
            "y_1 torch.Size([32, 32, 31, 41])\n"
          ]
        },
        {
          "output_type": "stream",
          "name": "stderr",
          "text": [
            " 56%|█████▌    | 151/269 [1:49:06<1:26:15, 43.86s/it, loss=0.949]"
          ]
        },
        {
          "output_type": "stream",
          "name": "stdout",
          "text": [
            "torch.Size([32, 48, 121, 161])\n",
            "c_1 torch.Size([32, 16, 124, 164])\n",
            "torch.Size([32, 32, 31, 41]) torch.Size([32, 8, 31, 41]) torch.Size([32, 8, 31, 41]) torch.Size([32, 8, 31, 41]) torch.Size([32, 8, 31, 41])\n",
            "y_1 torch.Size([32, 32, 31, 41])\n"
          ]
        },
        {
          "output_type": "stream",
          "name": "stderr",
          "text": [
            " 57%|█████▋    | 152/269 [1:49:51<1:26:21, 44.28s/it, loss=0.952]"
          ]
        },
        {
          "output_type": "stream",
          "name": "stdout",
          "text": [
            "torch.Size([32, 48, 121, 161])\n",
            "c_1 torch.Size([32, 16, 124, 164])\n",
            "torch.Size([32, 32, 31, 41]) torch.Size([32, 8, 31, 41]) torch.Size([32, 8, 31, 41]) torch.Size([32, 8, 31, 41]) torch.Size([32, 8, 31, 41])\n",
            "y_1 torch.Size([32, 32, 31, 41])\n"
          ]
        },
        {
          "output_type": "stream",
          "name": "stderr",
          "text": [
            " 57%|█████▋    | 153/269 [1:50:29<1:21:52, 42.35s/it, loss=0.953]"
          ]
        },
        {
          "output_type": "stream",
          "name": "stdout",
          "text": [
            "torch.Size([32, 48, 121, 161])\n",
            "c_1 torch.Size([32, 16, 124, 164])\n",
            "torch.Size([32, 32, 31, 41]) torch.Size([32, 8, 31, 41]) torch.Size([32, 8, 31, 41]) torch.Size([32, 8, 31, 41]) torch.Size([32, 8, 31, 41])\n",
            "y_1 torch.Size([32, 32, 31, 41])\n"
          ]
        },
        {
          "output_type": "stream",
          "name": "stderr",
          "text": [
            " 57%|█████▋    | 154/269 [1:51:06<1:18:06, 40.75s/it, loss=0.954]"
          ]
        },
        {
          "output_type": "stream",
          "name": "stdout",
          "text": [
            "torch.Size([32, 48, 121, 161])\n",
            "c_1 torch.Size([32, 16, 124, 164])\n",
            "torch.Size([32, 32, 31, 41]) torch.Size([32, 8, 31, 41]) torch.Size([32, 8, 31, 41]) torch.Size([32, 8, 31, 41]) torch.Size([32, 8, 31, 41])\n",
            "y_1 torch.Size([32, 32, 31, 41])\n"
          ]
        },
        {
          "output_type": "stream",
          "name": "stderr",
          "text": [
            " 58%|█████▊    | 155/269 [1:51:51<1:19:50, 42.03s/it, loss=0.951]"
          ]
        },
        {
          "output_type": "stream",
          "name": "stdout",
          "text": [
            "torch.Size([32, 48, 121, 161])\n",
            "c_1 torch.Size([32, 16, 124, 164])\n",
            "torch.Size([32, 32, 31, 41]) torch.Size([32, 8, 31, 41]) torch.Size([32, 8, 31, 41]) torch.Size([32, 8, 31, 41]) torch.Size([32, 8, 31, 41])\n",
            "y_1 torch.Size([32, 32, 31, 41])\n"
          ]
        },
        {
          "output_type": "stream",
          "name": "stderr",
          "text": [
            " 58%|█████▊    | 156/269 [1:52:34<1:19:32, 42.23s/it, loss=0.954]"
          ]
        },
        {
          "output_type": "stream",
          "name": "stdout",
          "text": [
            "torch.Size([32, 48, 121, 161])\n",
            "c_1 torch.Size([32, 16, 124, 164])\n",
            "torch.Size([32, 32, 31, 41]) torch.Size([32, 8, 31, 41]) torch.Size([32, 8, 31, 41]) torch.Size([32, 8, 31, 41]) torch.Size([32, 8, 31, 41])\n",
            "y_1 torch.Size([32, 32, 31, 41])\n"
          ]
        },
        {
          "output_type": "stream",
          "name": "stderr",
          "text": [
            " 58%|█████▊    | 157/269 [1:53:17<1:19:26, 42.56s/it, loss=0.948]"
          ]
        },
        {
          "output_type": "stream",
          "name": "stdout",
          "text": [
            "torch.Size([32, 48, 121, 161])\n",
            "c_1 torch.Size([32, 16, 124, 164])\n",
            "torch.Size([32, 32, 31, 41]) torch.Size([32, 8, 31, 41]) torch.Size([32, 8, 31, 41]) torch.Size([32, 8, 31, 41]) torch.Size([32, 8, 31, 41])\n",
            "y_1 torch.Size([32, 32, 31, 41])\n"
          ]
        },
        {
          "output_type": "stream",
          "name": "stderr",
          "text": [
            " 59%|█████▊    | 158/269 [1:54:00<1:18:40, 42.52s/it, loss=0.953]"
          ]
        },
        {
          "output_type": "stream",
          "name": "stdout",
          "text": [
            "torch.Size([32, 48, 121, 161])\n",
            "c_1 torch.Size([32, 16, 124, 164])\n",
            "torch.Size([32, 32, 31, 41]) torch.Size([32, 8, 31, 41]) torch.Size([32, 8, 31, 41]) torch.Size([32, 8, 31, 41]) torch.Size([32, 8, 31, 41])\n",
            "y_1 torch.Size([32, 32, 31, 41])\n"
          ]
        },
        {
          "output_type": "stream",
          "name": "stderr",
          "text": [
            " 59%|█████▉    | 159/269 [1:54:37<1:14:58, 40.90s/it, loss=0.948]"
          ]
        },
        {
          "output_type": "stream",
          "name": "stdout",
          "text": [
            "torch.Size([32, 48, 121, 161])\n",
            "c_1 torch.Size([32, 16, 124, 164])\n",
            "torch.Size([32, 32, 31, 41]) torch.Size([32, 8, 31, 41]) torch.Size([32, 8, 31, 41]) torch.Size([32, 8, 31, 41]) torch.Size([32, 8, 31, 41])\n",
            "y_1 torch.Size([32, 32, 31, 41])\n"
          ]
        },
        {
          "output_type": "stream",
          "name": "stderr",
          "text": [
            " 59%|█████▉    | 160/269 [1:55:19<1:14:43, 41.13s/it, loss=0.947]"
          ]
        },
        {
          "output_type": "stream",
          "name": "stdout",
          "text": [
            "torch.Size([32, 48, 121, 161])\n",
            "c_1 torch.Size([32, 16, 124, 164])\n",
            "torch.Size([32, 32, 31, 41]) torch.Size([32, 8, 31, 41]) torch.Size([32, 8, 31, 41]) torch.Size([32, 8, 31, 41]) torch.Size([32, 8, 31, 41])\n",
            "y_1 torch.Size([32, 32, 31, 41])\n"
          ]
        },
        {
          "output_type": "stream",
          "name": "stderr",
          "text": [
            " 60%|█████▉    | 161/269 [1:56:01<1:14:52, 41.59s/it, loss=0.951]"
          ]
        },
        {
          "output_type": "stream",
          "name": "stdout",
          "text": [
            "torch.Size([32, 48, 121, 161])\n",
            "c_1 torch.Size([32, 16, 124, 164])\n",
            "torch.Size([32, 32, 31, 41]) torch.Size([32, 8, 31, 41]) torch.Size([32, 8, 31, 41]) torch.Size([32, 8, 31, 41]) torch.Size([32, 8, 31, 41])\n",
            "y_1 torch.Size([32, 32, 31, 41])\n"
          ]
        },
        {
          "output_type": "stream",
          "name": "stderr",
          "text": [
            " 60%|██████    | 162/269 [1:56:44<1:14:37, 41.85s/it, loss=0.946]"
          ]
        },
        {
          "output_type": "stream",
          "name": "stdout",
          "text": [
            "torch.Size([32, 48, 121, 161])\n",
            "c_1 torch.Size([32, 16, 124, 164])\n",
            "torch.Size([32, 32, 31, 41]) torch.Size([32, 8, 31, 41]) torch.Size([32, 8, 31, 41]) torch.Size([32, 8, 31, 41]) torch.Size([32, 8, 31, 41])\n",
            "y_1 torch.Size([32, 32, 31, 41])\n"
          ]
        },
        {
          "output_type": "stream",
          "name": "stderr",
          "text": [
            " 61%|██████    | 163/269 [1:57:24<1:13:07, 41.39s/it, loss=0.948]"
          ]
        },
        {
          "output_type": "stream",
          "name": "stdout",
          "text": [
            "torch.Size([32, 48, 121, 161])\n",
            "c_1 torch.Size([32, 16, 124, 164])\n",
            "torch.Size([32, 32, 31, 41]) torch.Size([32, 8, 31, 41]) torch.Size([32, 8, 31, 41]) torch.Size([32, 8, 31, 41]) torch.Size([32, 8, 31, 41])\n",
            "y_1 torch.Size([32, 32, 31, 41])\n"
          ]
        },
        {
          "output_type": "stream",
          "name": "stderr",
          "text": [
            " 61%|██████    | 164/269 [1:58:05<1:12:06, 41.20s/it, loss=0.947]"
          ]
        },
        {
          "output_type": "stream",
          "name": "stdout",
          "text": [
            "torch.Size([32, 48, 121, 161])\n",
            "c_1 torch.Size([32, 16, 124, 164])\n",
            "torch.Size([32, 32, 31, 41]) torch.Size([32, 8, 31, 41]) torch.Size([32, 8, 31, 41]) torch.Size([32, 8, 31, 41]) torch.Size([32, 8, 31, 41])\n",
            "y_1 torch.Size([32, 32, 31, 41])\n"
          ]
        },
        {
          "output_type": "stream",
          "name": "stderr",
          "text": [
            " 61%|██████▏   | 165/269 [1:58:50<1:13:42, 42.52s/it, loss=0.943]"
          ]
        },
        {
          "output_type": "stream",
          "name": "stdout",
          "text": [
            "torch.Size([32, 48, 121, 161])\n",
            "c_1 torch.Size([32, 16, 124, 164])\n",
            "torch.Size([32, 32, 31, 41]) torch.Size([32, 8, 31, 41]) torch.Size([32, 8, 31, 41]) torch.Size([32, 8, 31, 41]) torch.Size([32, 8, 31, 41])\n",
            "y_1 torch.Size([32, 32, 31, 41])\n"
          ]
        },
        {
          "output_type": "stream",
          "name": "stderr",
          "text": [
            " 62%|██████▏   | 166/269 [1:59:32<1:12:31, 42.24s/it, loss=0.945]"
          ]
        },
        {
          "output_type": "stream",
          "name": "stdout",
          "text": [
            "torch.Size([32, 48, 121, 161])\n",
            "c_1 torch.Size([32, 16, 124, 164])\n",
            "torch.Size([32, 32, 31, 41]) torch.Size([32, 8, 31, 41]) torch.Size([32, 8, 31, 41]) torch.Size([32, 8, 31, 41]) torch.Size([32, 8, 31, 41])\n",
            "y_1 torch.Size([32, 32, 31, 41])\n"
          ]
        },
        {
          "output_type": "stream",
          "name": "stderr",
          "text": [
            " 62%|██████▏   | 167/269 [2:00:11<1:09:56, 41.14s/it, loss=0.951]"
          ]
        },
        {
          "output_type": "stream",
          "name": "stdout",
          "text": [
            "torch.Size([32, 48, 121, 161])\n",
            "c_1 torch.Size([32, 16, 124, 164])\n",
            "torch.Size([32, 32, 31, 41]) torch.Size([32, 8, 31, 41]) torch.Size([32, 8, 31, 41]) torch.Size([32, 8, 31, 41]) torch.Size([32, 8, 31, 41])\n",
            "y_1 torch.Size([32, 32, 31, 41])\n"
          ]
        },
        {
          "output_type": "stream",
          "name": "stderr",
          "text": [
            " 62%|██████▏   | 168/269 [2:00:54<1:10:40, 41.99s/it, loss=0.947]"
          ]
        },
        {
          "output_type": "stream",
          "name": "stdout",
          "text": [
            "torch.Size([32, 48, 121, 161])\n",
            "c_1 torch.Size([32, 16, 124, 164])\n",
            "torch.Size([32, 32, 31, 41]) torch.Size([32, 8, 31, 41]) torch.Size([32, 8, 31, 41]) torch.Size([32, 8, 31, 41]) torch.Size([32, 8, 31, 41])\n",
            "y_1 torch.Size([32, 32, 31, 41])\n"
          ]
        },
        {
          "output_type": "stream",
          "name": "stderr",
          "text": [
            " 63%|██████▎   | 169/269 [2:01:35<1:09:16, 41.56s/it, loss=0.946]"
          ]
        },
        {
          "output_type": "stream",
          "name": "stdout",
          "text": [
            "torch.Size([32, 48, 121, 161])\n",
            "c_1 torch.Size([32, 16, 124, 164])\n",
            "torch.Size([32, 32, 31, 41]) torch.Size([32, 8, 31, 41]) torch.Size([32, 8, 31, 41]) torch.Size([32, 8, 31, 41]) torch.Size([32, 8, 31, 41])\n",
            "y_1 torch.Size([32, 32, 31, 41])\n"
          ]
        },
        {
          "output_type": "stream",
          "name": "stderr",
          "text": [
            " 63%|██████▎   | 170/269 [2:02:18<1:09:14, 41.96s/it, loss=0.947]"
          ]
        },
        {
          "output_type": "stream",
          "name": "stdout",
          "text": [
            "torch.Size([32, 48, 121, 161])\n",
            "c_1 torch.Size([32, 16, 124, 164])\n",
            "torch.Size([32, 32, 31, 41]) torch.Size([32, 8, 31, 41]) torch.Size([32, 8, 31, 41]) torch.Size([32, 8, 31, 41]) torch.Size([32, 8, 31, 41])\n",
            "y_1 torch.Size([32, 32, 31, 41])\n"
          ]
        },
        {
          "output_type": "stream",
          "name": "stderr",
          "text": [
            " 64%|██████▎   | 171/269 [2:02:57<1:07:10, 41.13s/it, loss=0.943]"
          ]
        },
        {
          "output_type": "stream",
          "name": "stdout",
          "text": [
            "torch.Size([32, 48, 121, 161])\n",
            "c_1 torch.Size([32, 16, 124, 164])\n",
            "torch.Size([32, 32, 31, 41]) torch.Size([32, 8, 31, 41]) torch.Size([32, 8, 31, 41]) torch.Size([32, 8, 31, 41]) torch.Size([32, 8, 31, 41])\n",
            "y_1 torch.Size([32, 32, 31, 41])\n"
          ]
        },
        {
          "output_type": "stream",
          "name": "stderr",
          "text": [
            " 64%|██████▍   | 172/269 [2:03:39<1:06:41, 41.25s/it, loss=0.945]"
          ]
        },
        {
          "output_type": "stream",
          "name": "stdout",
          "text": [
            "torch.Size([32, 48, 121, 161])\n",
            "c_1 torch.Size([32, 16, 124, 164])\n",
            "torch.Size([32, 32, 31, 41]) torch.Size([32, 8, 31, 41]) torch.Size([32, 8, 31, 41]) torch.Size([32, 8, 31, 41]) torch.Size([32, 8, 31, 41])\n",
            "y_1 torch.Size([32, 32, 31, 41])\n"
          ]
        },
        {
          "output_type": "stream",
          "name": "stderr",
          "text": [
            " 64%|██████▍   | 173/269 [2:04:21<1:06:39, 41.67s/it, loss=0.943]"
          ]
        },
        {
          "output_type": "stream",
          "name": "stdout",
          "text": [
            "torch.Size([32, 48, 121, 161])\n",
            "c_1 torch.Size([32, 16, 124, 164])\n",
            "torch.Size([32, 32, 31, 41]) torch.Size([32, 8, 31, 41]) torch.Size([32, 8, 31, 41]) torch.Size([32, 8, 31, 41]) torch.Size([32, 8, 31, 41])\n",
            "y_1 torch.Size([32, 32, 31, 41])\n"
          ]
        },
        {
          "output_type": "stream",
          "name": "stderr",
          "text": [
            " 65%|██████▍   | 174/269 [2:05:07<1:07:54, 42.89s/it, loss=0.947]"
          ]
        },
        {
          "output_type": "stream",
          "name": "stdout",
          "text": [
            "torch.Size([32, 48, 121, 161])\n",
            "c_1 torch.Size([32, 16, 124, 164])\n",
            "torch.Size([32, 32, 31, 41]) torch.Size([32, 8, 31, 41]) torch.Size([32, 8, 31, 41]) torch.Size([32, 8, 31, 41]) torch.Size([32, 8, 31, 41])\n",
            "y_1 torch.Size([32, 32, 31, 41])\n"
          ]
        },
        {
          "output_type": "stream",
          "name": "stderr",
          "text": [
            " 65%|██████▌   | 175/269 [2:05:56<1:10:15, 44.85s/it, loss=0.943]"
          ]
        },
        {
          "output_type": "stream",
          "name": "stdout",
          "text": [
            "torch.Size([32, 48, 121, 161])\n",
            "c_1 torch.Size([32, 16, 124, 164])\n",
            "torch.Size([32, 32, 31, 41]) torch.Size([32, 8, 31, 41]) torch.Size([32, 8, 31, 41]) torch.Size([32, 8, 31, 41]) torch.Size([32, 8, 31, 41])\n",
            "y_1 torch.Size([32, 32, 31, 41])\n"
          ]
        },
        {
          "output_type": "stream",
          "name": "stderr",
          "text": [
            " 65%|██████▌   | 176/269 [2:06:44<1:10:46, 45.66s/it, loss=0.945]"
          ]
        },
        {
          "output_type": "stream",
          "name": "stdout",
          "text": [
            "torch.Size([32, 48, 121, 161])\n",
            "c_1 torch.Size([32, 16, 124, 164])\n",
            "torch.Size([32, 32, 31, 41]) torch.Size([32, 8, 31, 41]) torch.Size([32, 8, 31, 41]) torch.Size([32, 8, 31, 41]) torch.Size([32, 8, 31, 41])\n",
            "y_1 torch.Size([32, 32, 31, 41])\n"
          ]
        },
        {
          "output_type": "stream",
          "name": "stderr",
          "text": [
            " 66%|██████▌   | 177/269 [2:07:29<1:09:34, 45.38s/it, loss=0.945]"
          ]
        },
        {
          "output_type": "stream",
          "name": "stdout",
          "text": [
            "torch.Size([32, 48, 121, 161])\n",
            "c_1 torch.Size([32, 16, 124, 164])\n",
            "torch.Size([32, 32, 31, 41]) torch.Size([32, 8, 31, 41]) torch.Size([32, 8, 31, 41]) torch.Size([32, 8, 31, 41]) torch.Size([32, 8, 31, 41])\n",
            "y_1 torch.Size([32, 32, 31, 41])\n"
          ]
        },
        {
          "output_type": "stream",
          "name": "stderr",
          "text": [
            " 66%|██████▌   | 178/269 [2:08:15<1:09:02, 45.53s/it, loss=0.946]"
          ]
        },
        {
          "output_type": "stream",
          "name": "stdout",
          "text": [
            "torch.Size([32, 48, 121, 161])\n",
            "c_1 torch.Size([32, 16, 124, 164])\n",
            "torch.Size([32, 32, 31, 41]) torch.Size([32, 8, 31, 41]) torch.Size([32, 8, 31, 41]) torch.Size([32, 8, 31, 41]) torch.Size([32, 8, 31, 41])\n",
            "y_1 torch.Size([32, 32, 31, 41])\n"
          ]
        },
        {
          "output_type": "stream",
          "name": "stderr",
          "text": [
            " 67%|██████▋   | 179/269 [2:08:59<1:07:55, 45.29s/it, loss=0.942]"
          ]
        },
        {
          "output_type": "stream",
          "name": "stdout",
          "text": [
            "torch.Size([32, 48, 121, 161])\n",
            "c_1 torch.Size([32, 16, 124, 164])\n",
            "torch.Size([32, 32, 31, 41]) torch.Size([32, 8, 31, 41]) torch.Size([32, 8, 31, 41]) torch.Size([32, 8, 31, 41]) torch.Size([32, 8, 31, 41])\n",
            "y_1 torch.Size([32, 32, 31, 41])\n"
          ]
        },
        {
          "output_type": "stream",
          "name": "stderr",
          "text": [
            " 67%|██████▋   | 180/269 [2:09:45<1:07:17, 45.37s/it, loss=0.942]"
          ]
        },
        {
          "output_type": "stream",
          "name": "stdout",
          "text": [
            "torch.Size([32, 48, 121, 161])\n",
            "c_1 torch.Size([32, 16, 124, 164])\n",
            "torch.Size([32, 32, 31, 41]) torch.Size([32, 8, 31, 41]) torch.Size([32, 8, 31, 41]) torch.Size([32, 8, 31, 41]) torch.Size([32, 8, 31, 41])\n",
            "y_1 torch.Size([32, 32, 31, 41])\n"
          ]
        },
        {
          "output_type": "stream",
          "name": "stderr",
          "text": [
            " 67%|██████▋   | 181/269 [2:10:29<1:06:02, 45.03s/it, loss=0.938]"
          ]
        },
        {
          "output_type": "stream",
          "name": "stdout",
          "text": [
            "torch.Size([32, 48, 121, 161])\n",
            "c_1 torch.Size([32, 16, 124, 164])\n",
            "torch.Size([32, 32, 31, 41]) torch.Size([32, 8, 31, 41]) torch.Size([32, 8, 31, 41]) torch.Size([32, 8, 31, 41]) torch.Size([32, 8, 31, 41])\n",
            "y_1 torch.Size([32, 32, 31, 41])\n"
          ]
        },
        {
          "output_type": "stream",
          "name": "stderr",
          "text": [
            " 68%|██████▊   | 182/269 [2:11:18<1:06:54, 46.14s/it, loss=0.941]"
          ]
        },
        {
          "output_type": "stream",
          "name": "stdout",
          "text": [
            "torch.Size([32, 48, 121, 161])\n",
            "c_1 torch.Size([32, 16, 124, 164])\n",
            "torch.Size([32, 32, 31, 41]) torch.Size([32, 8, 31, 41]) torch.Size([32, 8, 31, 41]) torch.Size([32, 8, 31, 41]) torch.Size([32, 8, 31, 41])\n",
            "y_1 torch.Size([32, 32, 31, 41])\n"
          ]
        },
        {
          "output_type": "stream",
          "name": "stderr",
          "text": [
            " 68%|██████▊   | 183/269 [2:12:00<1:04:35, 45.07s/it, loss=0.944]"
          ]
        },
        {
          "output_type": "stream",
          "name": "stdout",
          "text": [
            "torch.Size([32, 48, 121, 161])\n",
            "c_1 torch.Size([32, 16, 124, 164])\n",
            "torch.Size([32, 32, 31, 41]) torch.Size([32, 8, 31, 41]) torch.Size([32, 8, 31, 41]) torch.Size([32, 8, 31, 41]) torch.Size([32, 8, 31, 41])\n",
            "y_1 torch.Size([32, 32, 31, 41])\n"
          ]
        },
        {
          "output_type": "stream",
          "name": "stderr",
          "text": [
            " 68%|██████▊   | 184/269 [2:12:41<1:01:52, 43.68s/it, loss=0.941]"
          ]
        },
        {
          "output_type": "stream",
          "name": "stdout",
          "text": [
            "torch.Size([32, 48, 121, 161])\n",
            "c_1 torch.Size([32, 16, 124, 164])\n",
            "torch.Size([32, 32, 31, 41]) torch.Size([32, 8, 31, 41]) torch.Size([32, 8, 31, 41]) torch.Size([32, 8, 31, 41]) torch.Size([32, 8, 31, 41])\n",
            "y_1 torch.Size([32, 32, 31, 41])\n"
          ]
        },
        {
          "output_type": "stream",
          "name": "stderr",
          "text": [
            " 69%|██████▉   | 185/269 [2:13:24<1:00:52, 43.48s/it, loss=0.937]"
          ]
        },
        {
          "output_type": "stream",
          "name": "stdout",
          "text": [
            "torch.Size([32, 48, 121, 161])\n",
            "c_1 torch.Size([32, 16, 124, 164])\n",
            "torch.Size([32, 32, 31, 41]) torch.Size([32, 8, 31, 41]) torch.Size([32, 8, 31, 41]) torch.Size([32, 8, 31, 41]) torch.Size([32, 8, 31, 41])\n",
            "y_1 torch.Size([32, 32, 31, 41])\n"
          ]
        },
        {
          "output_type": "stream",
          "name": "stderr",
          "text": [
            " 69%|██████▉   | 186/269 [2:14:03<58:08, 42.03s/it, loss=0.936]  "
          ]
        },
        {
          "output_type": "stream",
          "name": "stdout",
          "text": [
            "torch.Size([32, 48, 121, 161])\n",
            "c_1 torch.Size([32, 16, 124, 164])\n",
            "torch.Size([32, 32, 31, 41]) torch.Size([32, 8, 31, 41]) torch.Size([32, 8, 31, 41]) torch.Size([32, 8, 31, 41]) torch.Size([32, 8, 31, 41])\n",
            "y_1 torch.Size([32, 32, 31, 41])\n"
          ]
        },
        {
          "output_type": "stream",
          "name": "stderr",
          "text": [
            " 70%|██████▉   | 187/269 [2:14:44<57:06, 41.78s/it, loss=0.941]"
          ]
        },
        {
          "output_type": "stream",
          "name": "stdout",
          "text": [
            "torch.Size([32, 48, 121, 161])\n",
            "c_1 torch.Size([32, 16, 124, 164])\n",
            "torch.Size([32, 32, 31, 41]) torch.Size([32, 8, 31, 41]) torch.Size([32, 8, 31, 41]) torch.Size([32, 8, 31, 41]) torch.Size([32, 8, 31, 41])\n",
            "y_1 torch.Size([32, 32, 31, 41])\n"
          ]
        },
        {
          "output_type": "stream",
          "name": "stderr",
          "text": [
            " 70%|██████▉   | 188/269 [2:15:27<56:50, 42.10s/it, loss=0.939]"
          ]
        },
        {
          "output_type": "stream",
          "name": "stdout",
          "text": [
            "torch.Size([32, 48, 121, 161])\n",
            "c_1 torch.Size([32, 16, 124, 164])\n",
            "torch.Size([32, 32, 31, 41]) torch.Size([32, 8, 31, 41]) torch.Size([32, 8, 31, 41]) torch.Size([32, 8, 31, 41]) torch.Size([32, 8, 31, 41])\n",
            "y_1 torch.Size([32, 32, 31, 41])\n"
          ]
        },
        {
          "output_type": "stream",
          "name": "stderr",
          "text": [
            " 70%|███████   | 189/269 [2:16:06<55:11, 41.39s/it, loss=0.939]"
          ]
        },
        {
          "output_type": "stream",
          "name": "stdout",
          "text": [
            "torch.Size([32, 48, 121, 161])\n",
            "c_1 torch.Size([32, 16, 124, 164])\n",
            "torch.Size([32, 32, 31, 41]) torch.Size([32, 8, 31, 41]) torch.Size([32, 8, 31, 41]) torch.Size([32, 8, 31, 41]) torch.Size([32, 8, 31, 41])\n",
            "y_1 torch.Size([32, 32, 31, 41])\n"
          ]
        },
        {
          "output_type": "stream",
          "name": "stderr",
          "text": [
            " 71%|███████   | 190/269 [2:16:48<54:36, 41.47s/it, loss=0.939]"
          ]
        },
        {
          "output_type": "stream",
          "name": "stdout",
          "text": [
            "torch.Size([32, 48, 121, 161])\n",
            "c_1 torch.Size([32, 16, 124, 164])\n",
            "torch.Size([32, 32, 31, 41]) torch.Size([32, 8, 31, 41]) torch.Size([32, 8, 31, 41]) torch.Size([32, 8, 31, 41]) torch.Size([32, 8, 31, 41])\n",
            "y_1 torch.Size([32, 32, 31, 41])\n"
          ]
        },
        {
          "output_type": "stream",
          "name": "stderr",
          "text": [
            " 71%|███████   | 191/269 [2:17:31<54:38, 42.03s/it, loss=0.939]"
          ]
        },
        {
          "output_type": "stream",
          "name": "stdout",
          "text": [
            "torch.Size([32, 48, 121, 161])\n",
            "c_1 torch.Size([32, 16, 124, 164])\n",
            "torch.Size([32, 32, 31, 41]) torch.Size([32, 8, 31, 41]) torch.Size([32, 8, 31, 41]) torch.Size([32, 8, 31, 41]) torch.Size([32, 8, 31, 41])\n",
            "y_1 torch.Size([32, 32, 31, 41])\n"
          ]
        },
        {
          "output_type": "stream",
          "name": "stderr",
          "text": [
            " 71%|███████▏  | 192/269 [2:18:18<55:34, 43.31s/it, loss=0.943]"
          ]
        },
        {
          "output_type": "stream",
          "name": "stdout",
          "text": [
            "torch.Size([32, 48, 121, 161])\n",
            "c_1 torch.Size([32, 16, 124, 164])\n",
            "torch.Size([32, 32, 31, 41]) torch.Size([32, 8, 31, 41]) torch.Size([32, 8, 31, 41]) torch.Size([32, 8, 31, 41]) torch.Size([32, 8, 31, 41])\n",
            "y_1 torch.Size([32, 32, 31, 41])\n"
          ]
        },
        {
          "output_type": "stream",
          "name": "stderr",
          "text": [
            " 72%|███████▏  | 193/269 [2:19:06<56:38, 44.72s/it, loss=0.94]"
          ]
        },
        {
          "output_type": "stream",
          "name": "stdout",
          "text": [
            "torch.Size([32, 48, 121, 161])\n",
            "c_1 torch.Size([32, 16, 124, 164])\n",
            "torch.Size([32, 32, 31, 41]) torch.Size([32, 8, 31, 41]) torch.Size([32, 8, 31, 41]) torch.Size([32, 8, 31, 41]) torch.Size([32, 8, 31, 41])\n",
            "y_1 torch.Size([32, 32, 31, 41])\n"
          ]
        },
        {
          "output_type": "stream",
          "name": "stderr",
          "text": [
            " 72%|███████▏  | 194/269 [2:19:50<55:47, 44.64s/it, loss=0.938]"
          ]
        },
        {
          "output_type": "stream",
          "name": "stdout",
          "text": [
            "torch.Size([32, 48, 121, 161])\n",
            "c_1 torch.Size([32, 16, 124, 164])\n",
            "torch.Size([32, 32, 31, 41]) torch.Size([32, 8, 31, 41]) torch.Size([32, 8, 31, 41]) torch.Size([32, 8, 31, 41]) torch.Size([32, 8, 31, 41])\n",
            "y_1 torch.Size([32, 32, 31, 41])\n"
          ]
        },
        {
          "output_type": "stream",
          "name": "stderr",
          "text": [
            " 72%|███████▏  | 195/269 [2:20:36<55:36, 45.08s/it, loss=0.939]"
          ]
        },
        {
          "output_type": "stream",
          "name": "stdout",
          "text": [
            "torch.Size([32, 48, 121, 161])\n",
            "c_1 torch.Size([32, 16, 124, 164])\n",
            "torch.Size([32, 32, 31, 41]) torch.Size([32, 8, 31, 41]) torch.Size([32, 8, 31, 41]) torch.Size([32, 8, 31, 41]) torch.Size([32, 8, 31, 41])\n",
            "y_1 torch.Size([32, 32, 31, 41])\n"
          ]
        },
        {
          "output_type": "stream",
          "name": "stderr",
          "text": [
            " 73%|███████▎  | 196/269 [2:21:21<54:46, 45.02s/it, loss=0.937]"
          ]
        },
        {
          "output_type": "stream",
          "name": "stdout",
          "text": [
            "torch.Size([32, 48, 121, 161])\n",
            "c_1 torch.Size([32, 16, 124, 164])\n",
            "torch.Size([32, 32, 31, 41]) torch.Size([32, 8, 31, 41]) torch.Size([32, 8, 31, 41]) torch.Size([32, 8, 31, 41]) torch.Size([32, 8, 31, 41])\n",
            "y_1 torch.Size([32, 32, 31, 41])\n"
          ]
        }
      ]
    }
  ]
}